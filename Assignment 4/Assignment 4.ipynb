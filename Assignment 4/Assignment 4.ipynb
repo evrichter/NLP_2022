{
 "cells": [
  {
   "cell_type": "markdown",
   "metadata": {
    "id": "sTliN1ULKRUy"
   },
   "source": [
    "# Part-of-Speech Tagging and Named Entity Recognition\n",
    "\n",
    "Perform an analisys of an article in  language other than English by following these steps:\n",
    "\n",
    "*   Scrape the article from a URL\n",
    "*   Perform the necessary text normalization (if any)\n",
    "*   Obtain the most common nouns and verbs\n",
    "*   Obtain the most common Named Entity types\n",
    "*   Obtain the most common entities"
   ]
  },
  {
   "cell_type": "markdown",
   "metadata": {
    "id": "hR4FvINuIUBB"
   },
   "source": [
    "## 1. Obtaining the article"
   ]
  },
  {
   "cell_type": "code",
   "execution_count": null,
   "metadata": {
    "id": "c-FaE2WtIH-Y"
   },
   "outputs": [],
   "source": [
    "import requests\n",
    "from bs4 import BeautifulSoup\n",
    "import re"
   ]
  },
  {
   "cell_type": "code",
   "execution_count": null,
   "metadata": {
    "id": "6DHGgn0JH9z5"
   },
   "outputs": [],
   "source": [
    "# Let's define a function to scrape an url\n",
    "\n",
    "blacklist = [ # List with elements we don't want to keep\n",
    "    'script',\n",
    "    'style',\n",
    "    'aside'\n",
    "]\n",
    "\n",
    "def url_to_string(url):\n",
    "    request = requests.get(url)\n",
    "    html = request.text\n",
    "    soup = BeautifulSoup(html, \"html5lib\")\n",
    "    \n",
    "    for script in soup(blacklist):\n",
    "        script.extract()\n",
    "    text = [paragraph.get_text() for paragraph in soup.find_all('p')]\n",
    "    return \" \".join(text)"
   ]
  },
  {
   "cell_type": "code",
   "execution_count": null,
   "metadata": {
    "id": "PGPrhWVcHpbX"
   },
   "outputs": [],
   "source": [
    "url = \"https://www.vilaweb.cat/noticies/tanxugueiras-catala-gallec-basc-eurovisio/\""
   ]
  },
  {
   "cell_type": "code",
   "execution_count": null,
   "metadata": {
    "colab": {
     "base_uri": "https://localhost:8080/",
     "height": 851
    },
    "executionInfo": {
     "elapsed": 1731,
     "status": "ok",
     "timestamp": 1643380800901,
     "user": {
      "displayName": "ONA DE GIBERT BONET",
      "photoUrl": "https://lh3.googleusercontent.com/a-/AOh14GgTcOm2_dMJkA4Ry_ge0oD8g_mtotYKYNPg66gN=s64",
      "userId": "03677606584104604140"
     },
     "user_tz": -60
    },
    "id": "6E0fB-EuIDtw",
    "outputId": "5176e3ab-6494-491f-df72-1080c888130e"
   },
   "outputs": [
    {
     "data": {
      "application/vnd.google.colaboratory.intrinsic+json": {
       "type": "string"
      },
      "text/plain": [
       "'El suport econòmic dels lectors és fonamental per a mantenir el nostre model de periodisme independent i de qualitat. Podeu fer-vos-en subscriptor clicant ací i, a més de llegir VilaWeb sense anuncis, ens ajudareu d\\'una manera decisiva a continuar fent la nostra feina. Voleu enviar ara el comentari? Us recordem que els comentaris a l\\'editorial són els únics comentaris públics de VilaWeb i poden ser llegits per tothom, no solament pels subscriptors. \\n\\t\\t\\t\\t\\t\\tCULTURA > MÚSICA\\t\\t\\t\\t\\t \\n\\t\\t\\t\\t\\t\\tEl grup gallec Tanxugueiras és a un pas d\\'aconseguir-ho amb la cançó \"Terra\"\\t\\t\\t\\t\\t Per: Redacció \\n\\n\\t\\t\\t\\t\\t\\t Aquesta funcionalitat és per als membres de la comunitat de VilaWeb. Si encara no en sou subscriptors, cliqueu en aquesta pàgina per veure\\'n els avantatges. Aquesta funcionalitat és per als membres de la comunitat de VilaWeb. Si encara no en sou subscriptors, cliqueu en aquesta pàgina per veure\\'n els avantatges. Fes-te subscriptor de VilaWeb Sonarà per primera vegada una cançó en gallec, basc, asturià i català a la final d’Eurovisió? Doncs enguany pot passar. I, cosa que és més sorprenent, no serà perquè Andorra hagi passat a la final (en realitat, fa anys que ja ni ho prova), sinó que pot passar que hi cantarà el representant d’Espanya. Aquesta fita que semblava impossible fa un parell d’anys, podria ser una realitat enguany. El grup gallec de les\\xa0Tanxugueiras ha trencat tots els esquemes i és a un pas d’assolir-ho, amb la cançó “Terra”. El franquisme va impedir que Joan Manuel Serrat fes servir el català a Eurovisió el 1968; mig segle després, tres dones gallegues estan disposades a tombar aquesta barrera a l’estat espanyol i fer visible la seva cultura a tot Europa. A més, picaran l’ullet als bascs, catalans i asturians, perquè a l’estrofa principal de la cançó hi afegiran aquests tres idiomes.  Aquesta setmana, el trio que formen les Tanxugueiras –Aida Tarrío i les germanes Olaia i Sabela Maneiro– competiran al Festival de Benidorm per representar Ràdio Televisió Espanyola a Eurovisió 2022. I en totes les enquestes sonen com una de les possibles guanyadores, juntament amb la catalana Rigoberta Bandini, que es presenta amb “¡Ay, mamá!”, una cançó en castellà. Encara durant la primera semifinal, es va veure que no serà tot fàcil. Malgrat que Tanxugueiras va ser l’aposta guanyadora per part del públic, el jurat les va puntuar molt baix. La coentor continua igual: Ximo Puig, Eurovisió i el Festival de Benidorm “Estem molt orgulloses que el gallec sigui representat finalment en un entorn com aquest. És molt bonic veure aquest orgull del poble, en què tothom està unit per una causa. Per a nosaltres és una immensa alegria i un honor poder elevar el gallec al màxim nivell, i que la gent vegi que aquí hi ha una magnífica cultura mil·lenària”, explicava el grup fa pocs dies en una entrevista a Nós Diario. Quan les Tanxugueiras\\xa0van ajuntar-se per cantar, no hi pensaven pas, a anar a Eurovisió. De fet, reconeixen que no han estat mai gaire seguidores del festival. Simplement, eren dues germanes i una amiga que s’ajuntaven per cantar a les Foliadas, unes festes populars amb molta presència de dansa i música tradicional gallega. Però xalaven tant cantant juntes que van començar a bastir cada vegada més projectes. El 2017 un vídeo seu cantant es va fer viral, i un any després publicaven el primer disc. De primer, bàsicament reinterpretaven la música folclòrica de Galícia. Aquests darrers anys, han explorat amb curiositat la fusió de la tradició amb la sonoritat urbana i moderna, tot barrejant la música d’arrel amb l’electrònica i el reggaeton. Són les cantareiras del segle XXI. Amb la seva música acosten la gent jove a una tradició que aquests darrers anys havia anat perdent força. Diuen que se senten molt orgulloses de veure com la gent se’ls acosta a dir que han començat a tocar el tamborí o a parlar gallec. Són conscients que amb la seva música trenquen certs tabús i ajuden a normalitzar certs aspectes de la cultura gallega. Bo i cantant, volen demostrar que la música tradicional pot tenir la mateixa projecció que qualsevol mena de música. Com diu la lletra de “Terra”, Tanxugueiras han vingut per quedar-se i obren el camí a les noves generacions. El projecte va molt més enllà del festival d’Eurovisió. En realitat, tot plegat és una anècdota en la seva carrera, que va néixer d’una petició dels anomenats “eurofans” (fans d’Eurovisió). Si aquest grup ha aconseguit que el pre-seleccionessin és perquè els “eurofans” van triar la seva cançó “Figa” com a millor proposta per al festival.  A post shared by T A N X U G U E I R A S (@tanxugueiras)  La cançó triada finalment, “Terra”, ha estat una font d’alegria per a elles aquests darrers mesos. El dia que la van llançar va superar el mig milió de visualitzacions i va encapçalar unes quantes llistes de tendències musicals a tot l’estat espanyol. Fins i tot va arribar a ser la segona cançó més escoltada de la llista d’Apple Music, només superada per “All I want for Christmas is you”, de Mariah Carey. “Va ser bestial, crec que és una cosa que no assimilarem en tota la vida. És molt fort això que ens passa, no solament a nosaltres, sinó a totes les llengües que malauradament són minoritàries, i que sembla que no poden donar més de si, com el basc, el català o l’asturià. Crec que tots estem molt contents. Fem un treball en equip, una germanor molt bonica” explica Olaia Maneiro a Nós Diario. Aquesta germanor de què parlen es nota a la cançó mateix. “Terra” pica l’ullet a tots aquests idiomes, amb un vers que diu “no hi ha fronteres”. D’alguna manera diuen que volen que la gent del País Basc, Astúries o dels Països Catalans vegin en les Tanxugueiras el seu representant per a Eurovisió. Olaia Maneiro afegeix: “Crec que aprendre una llengua és sempre una riquesa, una obertura a unes altres cultures i llengües. Penso que unim totes aquestes llengües minoritàries amb el missatge que hem vingut per quedar-nos, per fer-nos sentir, i per això hem de remar tots junts. Veiem l’orgull que molta gent té per les llengües i les cultures, i això ens posa els pèls de punta.” Tanxugueiras veuen que Eurovisió pot ser una gran oportunitat per a difondre la riquesa del gallec. “Seria molt positiu que la gent investigués una mica més, perquè les llengües minoritàries semblen amagades i de vegades fins i tot veiem gent que les parla amb vergonya. I jo demano: et fa vergonya? És meravellós tenir això que tenim, no tothom pot presumir de tenir una llengua pròpia. No podem estar més orgullosos. Som gallegoparlants sempre, la nostra llengua materna és el gallec, pensem en gallec, somiem en gallec… Fins i tot quan parlo anglès penso en gallec” remarca Maneiro. Per elles, el fet d’haver arribat a la pre-selecció amb el suport del públic ja és una petita victòria: “D’alguna manera ja ho hem aconseguit, perquè el fet que el gallec hi sigui i sigui escoltat i tan valorat per tothom és impressionant. Però és cert que arribar-hi seria un somni fet realitat, que tothom gaudeixi de la nostra llengua, perquè tenim una sonoritat preciosa des del meu punt de vista, i això es mantindrà fins a la mort [riu]. Molta gent investiga la nostra cultura arran d’això, al·lucina, veu que aquesta llengua existeix. ‘I com és que s’ha conservat durant tant de temps?’, demanen. Perquè tenim la sort que la nostra és una de les cultures més ben conservades del món. Totes les dones i homes d’aquest país ho van fer possible; sobretot les dones, perquè Galícia és un país amb un matriarcat molt marcat en la conservació cultural. Aquí hi ha molta gent que treballa amb gran dedicació per la causa, i és increïble que la gent de fora senti interès i investigui. Si ja al·lucinem per la nostra cultura, imagineu-vos qui no tenia ni la més mínima idea que tot això existia.” Comentaris  Els subscriptors de VilaWeb poden comentar aquesta notícia, o bé llegir els comentaris que hi han fet els altres subscriptors i debatre-la amb ells, clicant ací. Si encara no sou subscriptors, us en podeu fer clicant ací. Comparteix a Facebook Comparteix a Twitter S\\'ha afegit la noticia a Favorits Enviar una còpia a un amic  *Separa els diferents emails amb comes. un compromís amb el periodisme i amb el país Subscriure\\'m al butlletí de notícies: Amb la col·laboració de: Hem detectat que teniu les notificacions de Vilaweb blocades. Si les voleu rebre, seguiu les instruccions que trobareu en aquesta pàgina.'"
      ]
     },
     "execution_count": 7,
     "metadata": {},
     "output_type": "execute_result"
    }
   ],
   "source": [
    "text = url_to_string(url)\n",
    "text"
   ]
  },
  {
   "cell_type": "markdown",
   "metadata": {
    "id": "ObSaFmJkIXmw"
   },
   "source": [
    "## 2. Text Normalization\n",
    "\n",
    "We will load a model for [Catalan](https://spacy.io/models/ca)."
   ]
  },
  {
   "cell_type": "code",
   "execution_count": null,
   "metadata": {
    "colab": {
     "base_uri": "https://localhost:8080/"
    },
    "executionInfo": {
     "elapsed": 8105,
     "status": "ok",
     "timestamp": 1643381590030,
     "user": {
      "displayName": "ONA DE GIBERT BONET",
      "photoUrl": "https://lh3.googleusercontent.com/a-/AOh14GgTcOm2_dMJkA4Ry_ge0oD8g_mtotYKYNPg66gN=s64",
      "userId": "03677606584104604140"
     },
     "user_tz": -60
    },
    "id": "bsxUkdzOLOBK",
    "outputId": "7a46538c-db13-4c60-e933-63857462a716"
   },
   "outputs": [
    {
     "name": "stdout",
     "output_type": "stream",
     "text": [
      "Requirement already satisfied: spacy in /usr/local/lib/python3.7/dist-packages (2.2.4)\n",
      "Collecting spacy\n",
      "  Downloading spacy-3.2.1-cp37-cp37m-manylinux_2_17_x86_64.manylinux2014_x86_64.whl (6.0 MB)\n",
      "\u001b[K     |████████████████████████████████| 6.0 MB 4.2 MB/s \n",
      "\u001b[?25hRequirement already satisfied: preshed<3.1.0,>=3.0.2 in /usr/local/lib/python3.7/dist-packages (from spacy) (3.0.6)\n",
      "Requirement already satisfied: typer<0.5.0,>=0.3.0 in /usr/local/lib/python3.7/dist-packages (from spacy) (0.3.2)\n",
      "Requirement already satisfied: tqdm<5.0.0,>=4.38.0 in /usr/local/lib/python3.7/dist-packages (from spacy) (4.62.3)\n",
      "Requirement already satisfied: numpy>=1.15.0 in /usr/local/lib/python3.7/dist-packages (from spacy) (1.19.5)\n",
      "Collecting langcodes<4.0.0,>=3.2.0\n",
      "  Downloading langcodes-3.3.0-py3-none-any.whl (181 kB)\n",
      "\u001b[K     |████████████████████████████████| 181 kB 57.9 MB/s \n",
      "\u001b[?25hRequirement already satisfied: thinc<8.1.0,>=8.0.12 in /usr/local/lib/python3.7/dist-packages (from spacy) (8.0.13)\n",
      "Requirement already satisfied: srsly<3.0.0,>=2.4.1 in /usr/local/lib/python3.7/dist-packages (from spacy) (2.4.2)\n",
      "Requirement already satisfied: jinja2 in /usr/local/lib/python3.7/dist-packages (from spacy) (2.11.3)\n",
      "Requirement already satisfied: cymem<2.1.0,>=2.0.2 in /usr/local/lib/python3.7/dist-packages (from spacy) (2.0.6)\n",
      "Requirement already satisfied: spacy-legacy<3.1.0,>=3.0.8 in /usr/local/lib/python3.7/dist-packages (from spacy) (3.0.8)\n",
      "Requirement already satisfied: wasabi<1.1.0,>=0.8.1 in /usr/local/lib/python3.7/dist-packages (from spacy) (0.9.0)\n",
      "Requirement already satisfied: packaging>=20.0 in /usr/local/lib/python3.7/dist-packages (from spacy) (21.3)\n",
      "Requirement already satisfied: pathy>=0.3.5 in /usr/local/lib/python3.7/dist-packages (from spacy) (0.6.1)\n",
      "Requirement already satisfied: pydantic!=1.8,!=1.8.1,<1.9.0,>=1.7.4 in /usr/local/lib/python3.7/dist-packages (from spacy) (1.7.4)\n",
      "Requirement already satisfied: blis<0.8.0,>=0.4.0 in /usr/local/lib/python3.7/dist-packages (from spacy) (0.4.1)\n",
      "Requirement already satisfied: typing-extensions<4.0.0.0,>=3.7.4 in /usr/local/lib/python3.7/dist-packages (from spacy) (3.10.0.2)\n",
      "Requirement already satisfied: setuptools in /usr/local/lib/python3.7/dist-packages (from spacy) (57.4.0)\n",
      "Requirement already satisfied: requests<3.0.0,>=2.13.0 in /usr/local/lib/python3.7/dist-packages (from spacy) (2.23.0)\n",
      "Requirement already satisfied: murmurhash<1.1.0,>=0.28.0 in /usr/local/lib/python3.7/dist-packages (from spacy) (1.0.6)\n",
      "Requirement already satisfied: catalogue<2.1.0,>=2.0.6 in /usr/local/lib/python3.7/dist-packages (from spacy) (2.0.6)\n",
      "Collecting spacy-loggers<2.0.0,>=1.0.0\n",
      "  Downloading spacy_loggers-1.0.1-py3-none-any.whl (7.0 kB)\n",
      "Requirement already satisfied: zipp>=0.5 in /usr/local/lib/python3.7/dist-packages (from catalogue<2.1.0,>=2.0.6->spacy) (3.7.0)\n",
      "Requirement already satisfied: pyparsing!=3.0.5,>=2.0.2 in /usr/local/lib/python3.7/dist-packages (from packaging>=20.0->spacy) (3.0.7)\n",
      "Requirement already satisfied: smart-open<6.0.0,>=5.0.0 in /usr/local/lib/python3.7/dist-packages (from pathy>=0.3.5->spacy) (5.2.1)\n",
      "Requirement already satisfied: certifi>=2017.4.17 in /usr/local/lib/python3.7/dist-packages (from requests<3.0.0,>=2.13.0->spacy) (2021.10.8)\n",
      "Requirement already satisfied: chardet<4,>=3.0.2 in /usr/local/lib/python3.7/dist-packages (from requests<3.0.0,>=2.13.0->spacy) (3.0.4)\n",
      "Requirement already satisfied: urllib3!=1.25.0,!=1.25.1,<1.26,>=1.21.1 in /usr/local/lib/python3.7/dist-packages (from requests<3.0.0,>=2.13.0->spacy) (1.24.3)\n",
      "Requirement already satisfied: idna<3,>=2.5 in /usr/local/lib/python3.7/dist-packages (from requests<3.0.0,>=2.13.0->spacy) (2.10)\n",
      "Requirement already satisfied: click<7.2.0,>=7.1.1 in /usr/local/lib/python3.7/dist-packages (from typer<0.5.0,>=0.3.0->spacy) (7.1.2)\n",
      "Requirement already satisfied: MarkupSafe>=0.23 in /usr/local/lib/python3.7/dist-packages (from jinja2->spacy) (2.0.1)\n",
      "Installing collected packages: spacy-loggers, langcodes, spacy\n",
      "  Attempting uninstall: spacy\n",
      "    Found existing installation: spacy 2.2.4\n",
      "    Uninstalling spacy-2.2.4:\n",
      "      Successfully uninstalled spacy-2.2.4\n",
      "Successfully installed langcodes-3.3.0 spacy-3.2.1 spacy-loggers-1.0.1\n"
     ]
    }
   ],
   "source": [
    "!pip install --upgrade spacy\n",
    "!python -m spacy download ca_core_news_sm # Model for Catalan"
   ]
  },
  {
   "cell_type": "code",
   "execution_count": null,
   "metadata": {
    "colab": {
     "base_uri": "https://localhost:8080/"
    },
    "executionInfo": {
     "elapsed": 21995,
     "status": "ok",
     "timestamp": 1643381619515,
     "user": {
      "displayName": "ONA DE GIBERT BONET",
      "photoUrl": "https://lh3.googleusercontent.com/a-/AOh14GgTcOm2_dMJkA4Ry_ge0oD8g_mtotYKYNPg66gN=s64",
      "userId": "03677606584104604140"
     },
     "user_tz": -60
    },
    "id": "-i84ZNPlJHvr",
    "outputId": "296e0bb7-2a6c-467b-cfc9-5a4b889058e1"
   },
   "outputs": [
    {
     "name": "stdout",
     "output_type": "stream",
     "text": [
      "Collecting ca-core-news-sm==3.2.0\n",
      "  Downloading https://github.com/explosion/spacy-models/releases/download/ca_core_news_sm-3.2.0/ca_core_news_sm-3.2.0-py3-none-any.whl (20.7 MB)\n",
      "\u001b[K     |████████████████████████████████| 20.7 MB 494 kB/s \n",
      "\u001b[?25hRequirement already satisfied: spacy<3.3.0,>=3.2.0 in /usr/local/lib/python3.7/dist-packages (from ca-core-news-sm==3.2.0) (3.2.1)\n",
      "Requirement already satisfied: requests<3.0.0,>=2.13.0 in /usr/local/lib/python3.7/dist-packages (from spacy<3.3.0,>=3.2.0->ca-core-news-sm==3.2.0) (2.23.0)\n",
      "Requirement already satisfied: tqdm<5.0.0,>=4.38.0 in /usr/local/lib/python3.7/dist-packages (from spacy<3.3.0,>=3.2.0->ca-core-news-sm==3.2.0) (4.62.3)\n",
      "Requirement already satisfied: typer<0.5.0,>=0.3.0 in /usr/local/lib/python3.7/dist-packages (from spacy<3.3.0,>=3.2.0->ca-core-news-sm==3.2.0) (0.3.2)\n",
      "Requirement already satisfied: typing-extensions<4.0.0.0,>=3.7.4 in /usr/local/lib/python3.7/dist-packages (from spacy<3.3.0,>=3.2.0->ca-core-news-sm==3.2.0) (3.10.0.2)\n",
      "Requirement already satisfied: srsly<3.0.0,>=2.4.1 in /usr/local/lib/python3.7/dist-packages (from spacy<3.3.0,>=3.2.0->ca-core-news-sm==3.2.0) (2.4.2)\n",
      "Requirement already satisfied: wasabi<1.1.0,>=0.8.1 in /usr/local/lib/python3.7/dist-packages (from spacy<3.3.0,>=3.2.0->ca-core-news-sm==3.2.0) (0.9.0)\n",
      "Requirement already satisfied: jinja2 in /usr/local/lib/python3.7/dist-packages (from spacy<3.3.0,>=3.2.0->ca-core-news-sm==3.2.0) (2.11.3)\n",
      "Requirement already satisfied: setuptools in /usr/local/lib/python3.7/dist-packages (from spacy<3.3.0,>=3.2.0->ca-core-news-sm==3.2.0) (57.4.0)\n",
      "Requirement already satisfied: thinc<8.1.0,>=8.0.12 in /usr/local/lib/python3.7/dist-packages (from spacy<3.3.0,>=3.2.0->ca-core-news-sm==3.2.0) (8.0.13)\n",
      "Requirement already satisfied: blis<0.8.0,>=0.4.0 in /usr/local/lib/python3.7/dist-packages (from spacy<3.3.0,>=3.2.0->ca-core-news-sm==3.2.0) (0.4.1)\n",
      "Requirement already satisfied: preshed<3.1.0,>=3.0.2 in /usr/local/lib/python3.7/dist-packages (from spacy<3.3.0,>=3.2.0->ca-core-news-sm==3.2.0) (3.0.6)\n",
      "Requirement already satisfied: spacy-legacy<3.1.0,>=3.0.8 in /usr/local/lib/python3.7/dist-packages (from spacy<3.3.0,>=3.2.0->ca-core-news-sm==3.2.0) (3.0.8)\n",
      "Requirement already satisfied: packaging>=20.0 in /usr/local/lib/python3.7/dist-packages (from spacy<3.3.0,>=3.2.0->ca-core-news-sm==3.2.0) (21.3)\n",
      "Requirement already satisfied: langcodes<4.0.0,>=3.2.0 in /usr/local/lib/python3.7/dist-packages (from spacy<3.3.0,>=3.2.0->ca-core-news-sm==3.2.0) (3.3.0)\n",
      "Requirement already satisfied: spacy-loggers<2.0.0,>=1.0.0 in /usr/local/lib/python3.7/dist-packages (from spacy<3.3.0,>=3.2.0->ca-core-news-sm==3.2.0) (1.0.1)\n",
      "Requirement already satisfied: pathy>=0.3.5 in /usr/local/lib/python3.7/dist-packages (from spacy<3.3.0,>=3.2.0->ca-core-news-sm==3.2.0) (0.6.1)\n",
      "Requirement already satisfied: pydantic!=1.8,!=1.8.1,<1.9.0,>=1.7.4 in /usr/local/lib/python3.7/dist-packages (from spacy<3.3.0,>=3.2.0->ca-core-news-sm==3.2.0) (1.7.4)\n",
      "Requirement already satisfied: cymem<2.1.0,>=2.0.2 in /usr/local/lib/python3.7/dist-packages (from spacy<3.3.0,>=3.2.0->ca-core-news-sm==3.2.0) (2.0.6)\n",
      "Requirement already satisfied: numpy>=1.15.0 in /usr/local/lib/python3.7/dist-packages (from spacy<3.3.0,>=3.2.0->ca-core-news-sm==3.2.0) (1.19.5)\n",
      "Requirement already satisfied: catalogue<2.1.0,>=2.0.6 in /usr/local/lib/python3.7/dist-packages (from spacy<3.3.0,>=3.2.0->ca-core-news-sm==3.2.0) (2.0.6)\n",
      "Requirement already satisfied: murmurhash<1.1.0,>=0.28.0 in /usr/local/lib/python3.7/dist-packages (from spacy<3.3.0,>=3.2.0->ca-core-news-sm==3.2.0) (1.0.6)\n",
      "Requirement already satisfied: zipp>=0.5 in /usr/local/lib/python3.7/dist-packages (from catalogue<2.1.0,>=2.0.6->spacy<3.3.0,>=3.2.0->ca-core-news-sm==3.2.0) (3.7.0)\n",
      "Requirement already satisfied: pyparsing!=3.0.5,>=2.0.2 in /usr/local/lib/python3.7/dist-packages (from packaging>=20.0->spacy<3.3.0,>=3.2.0->ca-core-news-sm==3.2.0) (3.0.7)\n",
      "Requirement already satisfied: smart-open<6.0.0,>=5.0.0 in /usr/local/lib/python3.7/dist-packages (from pathy>=0.3.5->spacy<3.3.0,>=3.2.0->ca-core-news-sm==3.2.0) (5.2.1)\n",
      "Requirement already satisfied: urllib3!=1.25.0,!=1.25.1,<1.26,>=1.21.1 in /usr/local/lib/python3.7/dist-packages (from requests<3.0.0,>=2.13.0->spacy<3.3.0,>=3.2.0->ca-core-news-sm==3.2.0) (1.24.3)\n",
      "Requirement already satisfied: certifi>=2017.4.17 in /usr/local/lib/python3.7/dist-packages (from requests<3.0.0,>=2.13.0->spacy<3.3.0,>=3.2.0->ca-core-news-sm==3.2.0) (2021.10.8)\n",
      "Requirement already satisfied: chardet<4,>=3.0.2 in /usr/local/lib/python3.7/dist-packages (from requests<3.0.0,>=2.13.0->spacy<3.3.0,>=3.2.0->ca-core-news-sm==3.2.0) (3.0.4)\n",
      "Requirement already satisfied: idna<3,>=2.5 in /usr/local/lib/python3.7/dist-packages (from requests<3.0.0,>=2.13.0->spacy<3.3.0,>=3.2.0->ca-core-news-sm==3.2.0) (2.10)\n",
      "Requirement already satisfied: click<7.2.0,>=7.1.1 in /usr/local/lib/python3.7/dist-packages (from typer<0.5.0,>=0.3.0->spacy<3.3.0,>=3.2.0->ca-core-news-sm==3.2.0) (7.1.2)\n",
      "Requirement already satisfied: MarkupSafe>=0.23 in /usr/local/lib/python3.7/dist-packages (from jinja2->spacy<3.3.0,>=3.2.0->ca-core-news-sm==3.2.0) (2.0.1)\n",
      "Installing collected packages: ca-core-news-sm\n",
      "Successfully installed ca-core-news-sm-3.2.0\n",
      "\u001b[38;5;2m✔ Download and installation successful\u001b[0m\n",
      "You can now load the package via spacy.load('ca_core_news_sm')\n"
     ]
    }
   ],
   "source": [
    "!python -m spacy download ca_core_news_sm # Model for Catalan"
   ]
  },
  {
   "cell_type": "code",
   "execution_count": null,
   "metadata": {
    "colab": {
     "base_uri": "https://localhost:8080/",
     "height": 122
    },
    "executionInfo": {
     "elapsed": 423,
     "status": "ok",
     "timestamp": 1643381012587,
     "user": {
      "displayName": "ONA DE GIBERT BONET",
      "photoUrl": "https://lh3.googleusercontent.com/a-/AOh14GgTcOm2_dMJkA4Ry_ge0oD8g_mtotYKYNPg66gN=s64",
      "userId": "03677606584104604140"
     },
     "user_tz": -60
    },
    "id": "HXha_VwFISSa",
    "outputId": "c08fd810-5602-4334-ee3d-e813dca33457"
   },
   "outputs": [
    {
     "data": {
      "application/vnd.google.colaboratory.intrinsic+json": {
       "type": "string"
      },
      "text/plain": [
       "'El suport econòmic dels lectors és fonamental per a mantenir el nostre model de periodisme independent i de qualitat. Podeu fer-vos-en subscriptor clicant ací i, a més de llegir VilaWeb sense anuncis, ens ajudareu d\\'una manera decisiva a continuar fent la nostra feina. Voleu enviar ara el comentari? Us recordem que els comentaris a l\\'editorial són els únics comentaris públics de VilaWeb i poden ser llegits per tothom, no solament pels subscriptors. CULTURA > MÚSICA El grup gallec Tanxugueiras és a un pas d\\'aconseguir-ho amb la cançó \"Terra\" Per: Redacció Aquesta funcionalitat és per als membres de la comunitat de VilaWeb. Si encara no en sou subscriptors, cliqueu en aquesta pàgina per veure\\'n els avantatges. Aquesta funcionalitat és per als membres de la comunitat de VilaWeb. Si encara no en sou subscriptors, cliqueu en aquesta pàgina per veure\\'n els avantatges. Fes-te subscriptor de VilaWeb Sonarà per primera vegada una cançó en gallec, basc, asturià i català a la final d’Eurovisió? Doncs enguany pot passar. I, cosa que és més sorprenent, no serà perquè Andorra hagi passat a la final (en realitat, fa anys que ja ni ho prova), sinó que pot passar que hi cantarà el representant d’Espanya. Aquesta fita que semblava impossible fa un parell d’anys, podria ser una realitat enguany. El grup gallec de les Tanxugueiras ha trencat tots els esquemes i és a un pas d’assolir-ho, amb la cançó “Terra”. El franquisme va impedir que Joan Manuel Serrat fes servir el català a Eurovisió el 1968; mig segle després, tres dones gallegues estan disposades a tombar aquesta barrera a l’estat espanyol i fer visible la seva cultura a tot Europa. A més, picaran l’ullet als bascs, catalans i asturians, perquè a l’estrofa principal de la cançó hi afegiran aquests tres idiomes. Aquesta setmana, el trio que formen les Tanxugueiras –Aida Tarrío i les germanes Olaia i Sabela Maneiro– competiran al Festival de Benidorm per representar Ràdio Televisió Espanyola a Eurovisió 2022. I en totes les enquestes sonen com una de les possibles guanyadores, juntament amb la catalana Rigoberta Bandini, que es presenta amb “¡Ay, mamá!”, una cançó en castellà. Encara durant la primera semifinal, es va veure que no serà tot fàcil. Malgrat que Tanxugueiras va ser l’aposta guanyadora per part del públic, el jurat les va puntuar molt baix. La coentor continua igual: Ximo Puig, Eurovisió i el Festival de Benidorm “Estem molt orgulloses que el gallec sigui representat finalment en un entorn com aquest. És molt bonic veure aquest orgull del poble, en què tothom està unit per una causa. Per a nosaltres és una immensa alegria i un honor poder elevar el gallec al màxim nivell, i que la gent vegi que aquí hi ha una magnífica cultura mil·lenària”, explicava el grup fa pocs dies en una entrevista a Nós Diario. Quan les Tanxugueiras van ajuntar-se per cantar, no hi pensaven pas, a anar a Eurovisió. De fet, reconeixen que no han estat mai gaire seguidores del festival. Simplement, eren dues germanes i una amiga que s’ajuntaven per cantar a les Foliadas, unes festes populars amb molta presència de dansa i música tradicional gallega. Però xalaven tant cantant juntes que van començar a bastir cada vegada més projectes. El 2017 un vídeo seu cantant es va fer viral, i un any després publicaven el primer disc. De primer, bàsicament reinterpretaven la música folclòrica de Galícia. Aquests darrers anys, han explorat amb curiositat la fusió de la tradició amb la sonoritat urbana i moderna, tot barrejant la música d’arrel amb l’electrònica i el reggaeton. Són les cantareiras del segle XXI. Amb la seva música acosten la gent jove a una tradició que aquests darrers anys havia anat perdent força. Diuen que se senten molt orgulloses de veure com la gent se’ls acosta a dir que han començat a tocar el tamborí o a parlar gallec. Són conscients que amb la seva música trenquen certs tabús i ajuden a normalitzar certs aspectes de la cultura gallega. Bo i cantant, volen demostrar que la música tradicional pot tenir la mateixa projecció que qualsevol mena de música. Com diu la lletra de “Terra”, Tanxugueiras han vingut per quedar-se i obren el camí a les noves generacions. El projecte va molt més enllà del festival d’Eurovisió. En realitat, tot plegat és una anècdota en la seva carrera, que va néixer d’una petició dels anomenats “eurofans” (fans d’Eurovisió). Si aquest grup ha aconseguit que el pre-seleccionessin és perquè els “eurofans” van triar la seva cançó “Figa” com a millor proposta per al festival. A post shared by T A N X U G U E I R A S (@tanxugueiras) La cançó triada finalment, “Terra”, ha estat una font d’alegria per a elles aquests darrers mesos. El dia que la van llançar va superar el mig milió de visualitzacions i va encapçalar unes quantes llistes de tendències musicals a tot l’estat espanyol. Fins i tot va arribar a ser la segona cançó més escoltada de la llista d’Apple Music, només superada per “All I want for Christmas is you”, de Mariah Carey. “Va ser bestial, crec que és una cosa que no assimilarem en tota la vida. És molt fort això que ens passa, no solament a nosaltres, sinó a totes les llengües que malauradament són minoritàries, i que sembla que no poden donar més de si, com el basc, el català o l’asturià. Crec que tots estem molt contents. Fem un treball en equip, una germanor molt bonica” explica Olaia Maneiro a Nós Diario. Aquesta germanor de què parlen es nota a la cançó mateix. “Terra” pica l’ullet a tots aquests idiomes, amb un vers que diu “no hi ha fronteres”. D’alguna manera diuen que volen que la gent del País Basc, Astúries o dels Països Catalans vegin en les Tanxugueiras el seu representant per a Eurovisió. Olaia Maneiro afegeix: “Crec que aprendre una llengua és sempre una riquesa, una obertura a unes altres cultures i llengües. Penso que unim totes aquestes llengües minoritàries amb el missatge que hem vingut per quedar-nos, per fer-nos sentir, i per això hem de remar tots junts. Veiem l’orgull que molta gent té per les llengües i les cultures, i això ens posa els pèls de punta.” Tanxugueiras veuen que Eurovisió pot ser una gran oportunitat per a difondre la riquesa del gallec. “Seria molt positiu que la gent investigués una mica més, perquè les llengües minoritàries semblen amagades i de vegades fins i tot veiem gent que les parla amb vergonya. I jo demano: et fa vergonya? És meravellós tenir això que tenim, no tothom pot presumir de tenir una llengua pròpia. No podem estar més orgullosos. Som gallegoparlants sempre, la nostra llengua materna és el gallec, pensem en gallec, somiem en gallec… Fins i tot quan parlo anglès penso en gallec” remarca Maneiro. Per elles, el fet d’haver arribat a la pre-selecció amb el suport del públic ja és una petita victòria: “D’alguna manera ja ho hem aconseguit, perquè el fet que el gallec hi sigui i sigui escoltat i tan valorat per tothom és impressionant. Però és cert que arribar-hi seria un somni fet realitat, que tothom gaudeixi de la nostra llengua, perquè tenim una sonoritat preciosa des del meu punt de vista, i això es mantindrà fins a la mort [riu]. Molta gent investiga la nostra cultura arran d’això, al·lucina, veu que aquesta llengua existeix. ‘I com és que s’ha conservat durant tant de temps?’, demanen. Perquè tenim la sort que la nostra és una de les cultures més ben conservades del món. Totes les dones i homes d’aquest país ho van fer possible; sobretot les dones, perquè Galícia és un país amb un matriarcat molt marcat en la conservació cultural. Aquí hi ha molta gent que treballa amb gran dedicació per la causa, i és increïble que la gent de fora senti interès i investigui. Si ja al·lucinem per la nostra cultura, imagineu-vos qui no tenia ni la més mínima idea que tot això existia.” Comentaris Els subscriptors de VilaWeb poden comentar aquesta notícia, o bé llegir els comentaris que hi han fet els altres subscriptors i debatre-la amb ells, clicant ací. Si encara no sou subscriptors, us en podeu fer clicant ací. Comparteix a Facebook Comparteix a Twitter S\\'ha afegit la noticia a Favorits Enviar una còpia a un amic *Separa els diferents emails amb comes. un compromís amb el periodisme i amb el país Subscriure\\'m al butlletí de notícies: Amb la col·laboració de: Hem detectat que teniu les notificacions de Vilaweb blocades. Si les voleu rebre, seguiu les instruccions que trobareu en aquesta pàgina.'"
      ]
     },
     "execution_count": 14,
     "metadata": {},
     "output_type": "execute_result"
    }
   ],
   "source": [
    "# 1. Substitute multiple spaces\n",
    "\n",
    "clean_text = re.sub('\\s+',' ',text) \n",
    "clean_text"
   ]
  },
  {
   "cell_type": "code",
   "execution_count": null,
   "metadata": {
    "colab": {
     "base_uri": "https://localhost:8080/"
    },
    "executionInfo": {
     "elapsed": 473,
     "status": "ok",
     "timestamp": 1643382548910,
     "user": {
      "displayName": "ONA DE GIBERT BONET",
      "photoUrl": "https://lh3.googleusercontent.com/a-/AOh14GgTcOm2_dMJkA4Ry_ge0oD8g_mtotYKYNPg66gN=s64",
      "userId": "03677606584104604140"
     },
     "user_tz": -60
    },
    "id": "VeHi2LRcNqhc",
    "outputId": "75fe0d9d-ffaf-40e3-d759-f5d1dc0229fe"
   },
   "outputs": [
    {
     "name": "stdout",
     "output_type": "stream",
     "text": [
      "[nltk_data] Downloading package punkt to /root/nltk_data...\n",
      "[nltk_data]   Package punkt is already up-to-date!\n",
      "El suport econòmic dels lectors és fonamental per a mantenir el nostre model de periodisme independent i de qualitat . Podeu fer-vos-en subscriptor clicant ací i , a més de llegir VilaWeb sense anuncis , ens ajudareu d'una manera decisiva a continuar fent la nostra feina . Voleu enviar ara el comentari ? Us recordem que els comentaris a l'editorial són els únics comentaris públics de VilaWeb i poden ser llegits per tothom , no solament pels subscriptors . CULTURA > MÚSICA El grup gallec Tanxugueiras és a un pas d'aconseguir-ho amb la cançó `` Terra '' Per : Redacció Aquesta funcionalitat és per als membres de la comunitat de VilaWeb . Si encara no en sou subscriptors , cliqueu en aquesta pàgina per veure'n els avantatges . Aquesta funcionalitat és per als membres de la comunitat de VilaWeb . Si encara no en sou subscriptors , cliqueu en aquesta pàgina per veure'n els avantatges . Fes-te subscriptor de VilaWeb Sonarà per primera vegada una cançó en gallec , basc , asturià i català a la final d ’ Eurovisió ? Doncs enguany pot passar . I , cosa que és més sorprenent , no serà perquè Andorra hagi passat a la final ( en realitat , fa anys que ja ni ho prova ) , sinó que pot passar que hi cantarà el representant d ’ Espanya . Aquesta fita que semblava impossible fa un parell d ’ anys , podria ser una realitat enguany . El grup gallec de les Tanxugueiras ha trencat tots els esquemes i és a un pas d ’ assolir-ho , amb la cançó “ Terra ” . El franquisme va impedir que Joan Manuel Serrat fes servir el català a Eurovisió el 1968 ; mig segle després , tres dones gallegues estan disposades a tombar aquesta barrera a l ’ estat espanyol i fer visible la seva cultura a tot Europa . A més , picaran l ’ ullet als bascs , catalans i asturians , perquè a l ’ estrofa principal de la cançó hi afegiran aquests tres idiomes . Aquesta setmana , el trio que formen les Tanxugueiras –Aida Tarrío i les germanes Olaia i Sabela Maneiro– competiran al Festival de Benidorm per representar Ràdio Televisió Espanyola a Eurovisió 2022 . I en totes les enquestes sonen com una de les possibles guanyadores , juntament amb la catalana Rigoberta Bandini , que es presenta amb “ ¡Ay , mamá ! ” , una cançó en castellà . Encara durant la primera semifinal , es va veure que no serà tot fàcil . Malgrat que Tanxugueiras va ser l ’ aposta guanyadora per part del públic , el jurat les va puntuar molt baix . La coentor continua igual : Ximo Puig , Eurovisió i el Festival de Benidorm “ Estem molt orgulloses que el gallec sigui representat finalment en un entorn com aquest . És molt bonic veure aquest orgull del poble , en què tothom està unit per una causa . Per a nosaltres és una immensa alegria i un honor poder elevar el gallec al màxim nivell , i que la gent vegi que aquí hi ha una magnífica cultura mil·lenària ” , explicava el grup fa pocs dies en una entrevista a Nós Diario . Quan les Tanxugueiras van ajuntar-se per cantar , no hi pensaven pas , a anar a Eurovisió . De fet , reconeixen que no han estat mai gaire seguidores del festival . Simplement , eren dues germanes i una amiga que s ’ ajuntaven per cantar a les Foliadas , unes festes populars amb molta presència de dansa i música tradicional gallega . Però xalaven tant cantant juntes que van començar a bastir cada vegada més projectes . El 2017 un vídeo seu cantant es va fer viral , i un any després publicaven el primer disc . De primer , bàsicament reinterpretaven la música folclòrica de Galícia . Aquests darrers anys , han explorat amb curiositat la fusió de la tradició amb la sonoritat urbana i moderna , tot barrejant la música d ’ arrel amb l ’ electrònica i el reggaeton . Són les cantareiras del segle XXI . Amb la seva música acosten la gent jove a una tradició que aquests darrers anys havia anat perdent força . Diuen que se senten molt orgulloses de veure com la gent se ’ ls acosta a dir que han començat a tocar el tamborí o a parlar gallec . Són conscients que amb la seva música trenquen certs tabús i ajuden a normalitzar certs aspectes de la cultura gallega . Bo i cantant , volen demostrar que la música tradicional pot tenir la mateixa projecció que qualsevol mena de música . Com diu la lletra de “ Terra ” , Tanxugueiras han vingut per quedar-se i obren el camí a les noves generacions . El projecte va molt més enllà del festival d ’ Eurovisió . En realitat , tot plegat és una anècdota en la seva carrera , que va néixer d ’ una petició dels anomenats “ eurofans ” ( fans d ’ Eurovisió ) . Si aquest grup ha aconseguit que el pre-seleccionessin és perquè els “ eurofans ” van triar la seva cançó “ Figa ” com a millor proposta per al festival . A post shared by T A N X U G U E I R A S ( @ tanxugueiras ) La cançó triada finalment , “ Terra ” , ha estat una font d ’ alegria per a elles aquests darrers mesos . El dia que la van llançar va superar el mig milió de visualitzacions i va encapçalar unes quantes llistes de tendències musicals a tot l ’ estat espanyol . Fins i tot va arribar a ser la segona cançó més escoltada de la llista d ’ Apple Music , només superada per “ All I want for Christmas is you ” , de Mariah Carey . “ Va ser bestial , crec que és una cosa que no assimilarem en tota la vida . És molt fort això que ens passa , no solament a nosaltres , sinó a totes les llengües que malauradament són minoritàries , i que sembla que no poden donar més de si , com el basc , el català o l ’ asturià . Crec que tots estem molt contents . Fem un treball en equip , una germanor molt bonica ” explica Olaia Maneiro a Nós Diario . Aquesta germanor de què parlen es nota a la cançó mateix . “ Terra ” pica l ’ ullet a tots aquests idiomes , amb un vers que diu “ no hi ha fronteres ” . D ’ alguna manera diuen que volen que la gent del País Basc , Astúries o dels Països Catalans vegin en les Tanxugueiras el seu representant per a Eurovisió . Olaia Maneiro afegeix : “ Crec que aprendre una llengua és sempre una riquesa , una obertura a unes altres cultures i llengües . Penso que unim totes aquestes llengües minoritàries amb el missatge que hem vingut per quedar-nos , per fer-nos sentir , i per això hem de remar tots junts . Veiem l ’ orgull que molta gent té per les llengües i les cultures , i això ens posa els pèls de punta. ” Tanxugueiras veuen que Eurovisió pot ser una gran oportunitat per a difondre la riquesa del gallec . “ Seria molt positiu que la gent investigués una mica més , perquè les llengües minoritàries semblen amagades i de vegades fins i tot veiem gent que les parla amb vergonya . I jo demano : et fa vergonya ? És meravellós tenir això que tenim , no tothom pot presumir de tenir una llengua pròpia . No podem estar més orgullosos . Som gallegoparlants sempre , la nostra llengua materna és el gallec , pensem en gallec , somiem en gallec… Fins i tot quan parlo anglès penso en gallec ” remarca Maneiro . Per elles , el fet d ’ haver arribat a la pre-selecció amb el suport del públic ja és una petita victòria : “ D ’ alguna manera ja ho hem aconseguit , perquè el fet que el gallec hi sigui i sigui escoltat i tan valorat per tothom és impressionant . Però és cert que arribar-hi seria un somni fet realitat , que tothom gaudeixi de la nostra llengua , perquè tenim una sonoritat preciosa des del meu punt de vista , i això es mantindrà fins a la mort [ riu ] . Molta gent investiga la nostra cultura arran d ’ això , al·lucina , veu que aquesta llengua existeix . ‘ I com és que s ’ ha conservat durant tant de temps ? ’ , demanen . Perquè tenim la sort que la nostra és una de les cultures més ben conservades del món . Totes les dones i homes d ’ aquest país ho van fer possible ; sobretot les dones , perquè Galícia és un país amb un matriarcat molt marcat en la conservació cultural . Aquí hi ha molta gent que treballa amb gran dedicació per la causa , i és increïble que la gent de fora senti interès i investigui . Si ja al·lucinem per la nostra cultura , imagineu-vos qui no tenia ni la més mínima idea que tot això existia. ” Comentaris Els subscriptors de VilaWeb poden comentar aquesta notícia , o bé llegir els comentaris que hi han fet els altres subscriptors i debatre-la amb ells , clicant ací . Si encara no sou subscriptors , us en podeu fer clicant ací . Comparteix a Facebook Comparteix a Twitter S'ha afegit la noticia a Favorits Enviar una còpia a un amic *Separa els diferents emails amb comes . un compromís amb el periodisme i amb el país Subscriure 'm al butlletí de notícies : Amb la col·laboració de : Hem detectat que teniu les notificacions de Vilaweb blocades . Si les voleu rebre , seguiu les instruccions que trobareu en aquesta pàgina .\n"
     ]
    }
   ],
   "source": [
    "import nltk\n",
    "from nltk import word_tokenize \n",
    "nltk.download('punkt')\n",
    "\n",
    "# 2. Tokenization\n",
    "tokenized_text = \" \".join(word_tokenize(clean_text, \"spanish\"))\n",
    "print(tokenized_text)"
   ]
  },
  {
   "cell_type": "code",
   "execution_count": null,
   "metadata": {
    "colab": {
     "base_uri": "https://localhost:8080/"
    },
    "executionInfo": {
     "elapsed": 4106,
     "status": "ok",
     "timestamp": 1643382711729,
     "user": {
      "displayName": "ONA DE GIBERT BONET",
      "photoUrl": "https://lh3.googleusercontent.com/a-/AOh14GgTcOm2_dMJkA4Ry_ge0oD8g_mtotYKYNPg66gN=s64",
      "userId": "03677606584104604140"
     },
     "user_tz": -60
    },
    "id": "Uq8LIp_lNn84",
    "outputId": "2237c2a9-7f63-4790-abc4-51fc6ee3bfe7"
   },
   "outputs": [
    {
     "name": "stdout",
     "output_type": "stream",
     "text": [
      "['suport', 'econòmic', 'de', 'lector', 'fonamental', 'mantenir', 'model', 'periodisme', 'independent', 'qualitat', '-vos', '-en', 'subscriptor', 'clicar', 'llegir', 'vilaweb', 'anunci', 'ajudar', 'de', 'manera', 'decisiu', 'continuar', 'fer', 'feina', 'Voleu', 'enviar', 'ara', 'comentari', 'recordar', 'comentari', 'el', 'editorial', 'únic', 'comentari', 'públic', 'VilaWeb', 'llegir', 'tothom', 'per', 'subscriptor', 'CULTURA', '>', 'MÚSICA', 'grup', 'gallec', 'Tanxugueiras', 'de', 'aconseguir', '-ho', 'cançó', '`', '`', 'Terra', 'Redacció', 'funcionalitat', 'el', 'membre', 'comunitat', 'VilaWeb', 'subscriptor', 'cliquar', 'pàgina', 'veure', \"'n\", 'avantatge', 'funcionalitat', 'el', 'membre', 'comunitat', 'VilaWeb', 'subscriptor', 'cliquar', 'pàgina', 'veure', \"'n\", 'avantatge', 'Fes', '-te', 'subscriptor', 'VilaWeb', 'sonar', 'primer', 'vegada', 'cançó', 'gallec', 'basc', 'asturià', 'català', 'final', 'de', 'Eurovisió', 'enguany', 'poder', 'passar', 'cosa', 'sorprenent', 'ser', 'Andorra', 'haver', 'passar', 'final', 'realitat', 'any', 'prova', 'sinó', 'poder', 'passar', 'cantar', 'representant', 'de', 'Espanya', 'fita', 'semblar', 'impossible', 'parell', 'de', 'any', 'poder', 'realitat', 'enguany', 'grup', 'gallec', 'Tanxugueiras', 'trencar', 'esquema', 'de', 'assolir', '-ho', 'cançó', 'Terra', 'franquisme', 'impedir', 'Joan', 'Manuel', 'Serrat', 'fendre', 'servir', 'català', 'Eurovisió', '1968', 'mig', 'segle', 'tres', 'dona', 'gallec', 'disposat', 'tombar', 'barrera', 'el', 'espanyol', 'visible', 'cultura', 'Europa', 'picar', 'el', 'ullet', 'el', 'bascs', 'catalans', 'asturià', 'el', 'estrofa', 'principal', 'cançó', 'afegir', 'tres', 'idioma', 'setmana', 'trio', 'formar', 'Tanxugueiras', 'Aida', 'Tarrío', 'germana', 'Olaia', 'Sabela', 'Maneiro', 'competir', 'el', 'Festival', 'Benidorm', 'representar', 'Ràdio', 'Televisió', 'Espanyola', 'Eurovisió', '2022', 'enquesta', 'sonar', 'possible', 'guanyador', 'juntament', 'català', 'Rigoberta', 'Bandini', 'presentar', 'Ay', 'mamá', 'cançó', 'castellà', 'primer', 'semifinal', 'veure', 'ser', 'fàcil', 'Tanxugueiras', 'el', 'apostar', 'guanyador', 'part', 'de', 'públic', 'jurat', 'puntuar', 'coentor', 'continuar', 'Ximo', 'Puig', 'Eurovisió', 'Festival', 'Benidorm', 'orgullós', 'gallec', 'ser', 'representat', 'finalment', 'entorn', 'bonic', 'veure', 'orgull', 'de', 'poble', 'tothom', 'unit', 'causa', 'immensa', 'alegri', 'honor', 'elevar', 'gallec', 'el', 'màxim', 'nivell', 'gent', 'vegar', 'magnífic', 'cultura', 'mil·lenari', 'explicar', 'grup', 'dia', 'entrevista', 'Nós', 'Diario', 'Tanxugueiras', 'ajuntar', 'se', 'cantar', 'pensar', 'Eurovisió', 'fet', 'reconeixar', 'mai', 'gaire', 'seguidor', 'de', 'festival', 'simplement', 'dos', 'germana', 'amic', 's', 'ajuntar', 'cantar', 'Foliadas', 'festa', 'popular', 'presència', 'dansa', 'música', 'tradicional', 'gallec', 'xalar', 'cantant', 'junta', 'començar', 'bastir', 'vegada', 'projecte', '2017', 'vídeo', 'cantant', 'viral', 'any', 'publicar', 'disc', 'bàsicament', 'reinterpretar', 'música', 'folclòric', 'Galícia', 'darrer', 'any', 'explorar', 'curiositat', 'fusió', 'tradició', 'sonoritat', 'urbà', 'modern', 'barrejar', 'música', 'de', 'arrelar', 'el', 'electrònic', 'reggaeton', 'cantareira', 'de', 'segle', 'xxi', 'música', 'acostar', 'gent', 'jove', 'tradició', 'darrer', 'any', 'anar', 'perdre', 'força', 'diuar', 'se', 'sentir', 'orgullós', 'veure', 'gent', 'se', 'ls', 'acostar', 'dir', 'començar', 'tocar', 'tamborí', 'parlar', 'gallec', 'conscient', 'música', 'trenquar', 'certs', 'tabú', 'ajudar', 'normalitzar', 'certs', 'aspecte', 'cultura', 'gallec', 'Bo', 'cantant', 'voler', 'demostrar', 'música', 'tradicional', 'poder', 'projecció', 'qualsevol', 'mena', 'música', 'dir', 'lletra', 'Terra', 'Tanxugueiras', 'vingre', 'quedar', 'se', 'obrir', 'camí', 'nou', 'generació', 'projecte', 'enllà', 'de', 'festival', 'd', 'Eurovisió', 'realitat', 'plegat', 'anècdota', 'carrera', 'néixer', 'de', 'petició', 'de', 'anomenat', 'eurofà', 'fan', 'de', 'Eurovisió', 'grup', 'aconseguir', 'pre-seleccionar', 'eurofà', 'triar', 'cançó', 'Figa', 'millor', 'proposta', 'el', 'festival', 'post', 'shared', 'by', 'T', 'N', 'X', 'U', 'G', 'U', 'R', 'S', 'tanxugueiras', 'cançó', 'triat', 'finalment', 'Terra', 'font', 'd', 'alegri', 'darrer', 'mes', 'dia', 'llançar', 'superar', 'mig', 'milió', 'visualització', 'encapçalar', 'quantes', 'llista', 'tendència', 'musical', 'litre', 'espanyol', 'arribar', 'segon', 'cançó', 'escoltat', 'llista', 'de', 'Apple', 'Music', 'superat', 'All', 'want', 'for', 'Christmas', 'i', 'you', 'Mariah', 'Carey', 'bestial', 'creure', 'cosa', 'assimilar', 'vida', 'fort', 'passar', 'sinó', 'llengua', 'malauradament', 'minoritari', 'semblar', 'donar', 'basc', 'català', 'el', 'asturià', 'creure', 'content', 'treball', 'equip', 'germanor', 'bonic', 'explicar', 'Olaia', 'Maneiro', 'Nós', 'Diario', 'germanor', 'parlar', 'notar', 'cançó', 'Terra', 'pic', 'litre', 'ullet', 'idioma', 'vers', 'dir', 'frontera', 'D', 'manera', 'diuar', 'voler', 'gent', 'de', 'País', 'Basc', 'Astúries', 'de', 'Països', 'Catalans', 'vegir', 'Tanxugueiras', 'representant', 'Eurovisió', 'Olaia', 'Maneiro', 'afegir', 'creure', 'aprendre', 'llengua', 'sempre', 'riquesa', 'obertura', 'cultura', 'llengua', 'pensar', 'unir', 'llengua', 'minoritari', 'missatge', 'vingre', 'quedar', '-nos', '-nos', 'sentir', 'remar', 'junt', 'veiar', 'el', 'orgull', 'gent', 'tenir', 'llengua', 'cultura', 'posar', 'pèl', 'punta', 'Tanxugueiras', 'veuar', 'Eurovisió', 'poder', 'gran', 'oportunitat', 'difondre', 'riquesa', 'de', 'gallec', 'ser', 'positiu', 'gent', 'investiguar', 'mica', 'llengua', 'minoritari', 'semblar', 'amagat', 'vegada', 'veiar', 'gent', 'parlar', 'vergonya', 'demanar', 'vergonya', 'meravellós', 'tothom', 'poder', 'presumir', 'llengua', 'propi', 'estar', 'orgullós', 'gallegoparlant', 'sempre', 'llengua', 'matern', 'gallec', 'pensar', 'gallec', 'somiar', 'gallec', 'parlar', 'anglès', 'pensar', 'gallec', 'remarcar', 'Maneiro', 'fet', 'd', 'arribar', 'pre-selecció', 'suport', 'de', 'públic', 'petit', 'victòria', 'D', 'manera', 'aconseguir', 'fet', 'gallec', 'ser', 'ser', 'escoltat', 'valorat', 'tothom', 'impressionant', 'cert', 'arribar', '-hi', 'ser', 'somni', 'fet', 'realitat', 'tothom', 'gaudir', 'llengua', 'sonoritat', 'preciós', 'de', 'punt', 'vista', 'mantindrar', 'mort', 'riu', 'gent', 'investigar', 'cultura', 'arran', 'd', 'al·lucinar', 'llengua', 'existir', 's', 'conservar', 'temps', 'demanar', 'sort', 'cultura', 'ben', 'conservat', 'de', 'món', 'dona', 'home', 'de', 'país', 'possible', 'dona', 'Galícia', 'país', 'matriarcat', 'marcat', 'conservació', 'cultural', 'gent', 'treballar', 'gran', 'dedicació', 'causa', 'increïble', 'gent', 'sentir', 'interès', 'investiguar', 'al·lucinar', 'cultura', 'imagineu', '-vos', 'tenir', 'mínim', 'idea', 'existir', 'Comentaris', 'subscriptor', 'VilaWeb', 'comentar', 'notícia', 'llegir', 'comentari', 'fer', 'subscriptor', 'debatre', '-la', 'clicar', 'subscriptor', 'clicar', 'compartir', 'Facebook', 'compartir', 'Twitter', 'se', 'afegir', 'noticia', 'Favorits', 'enviar', 'còpia', 'amic', 'separar', 'diferent', 'email', 'coma', 'compromís', 'periodisme', 'país', 'Subscriure', \"'m\", 'el', 'butlletí', 'notícia', 'col·laboració', 'detectar', 'notificació', 'Vilaweb', 'blocat', 'voleu', 'rebre', 'seguiu', 'instrucció', 'trobar', 'pàgina']\n"
     ]
    }
   ],
   "source": [
    "import ca_core_news_sm # We import the model \n",
    "\n",
    "nlp = ca_core_news_sm.load() # We create a nlp object\n",
    "nlp\n",
    "doc = nlp(tokenized_text) # We convert our text to a spacy parsed object\n",
    "\n",
    "# 3. Remove stopwords\n",
    "text_nosw = [word for word in doc if not word.is_stop and not word.is_punct]"
   ]
  },
  {
   "cell_type": "markdown",
   "metadata": {
    "id": "a1nywYWuJII5"
   },
   "source": [
    "## 3. POS Tagging"
   ]
  },
  {
   "cell_type": "code",
   "execution_count": null,
   "metadata": {
    "id": "l31x2iaTLicD"
   },
   "outputs": [],
   "source": [
    "from collections import Counter\n",
    "\n",
    "def get_most_common_category(doc,category,top_n): # we define a function that returns the most common words of a grammatical category\n",
    "  words_category = [word.lemma_ for word in doc if word.pos_ == category]\n",
    "  words_category_dict = Counter(words_category)\n",
    "  most_common = [word for word, count in words_category_dict.most_common(top_n)] #Counter returns a tuple of (word, occurrences); we only want the words\n",
    "  return most_common"
   ]
  },
  {
   "cell_type": "code",
   "execution_count": null,
   "metadata": {
    "colab": {
     "base_uri": "https://localhost:8080/"
    },
    "executionInfo": {
     "elapsed": 413,
     "status": "ok",
     "timestamp": 1643383542711,
     "user": {
      "displayName": "ONA DE GIBERT BONET",
      "photoUrl": "https://lh3.googleusercontent.com/a-/AOh14GgTcOm2_dMJkA4Ry_ge0oD8g_mtotYKYNPg66gN=s64",
      "userId": "03677606584104604140"
     },
     "user_tz": -60
    },
    "id": "_0YJeUeJMhnx",
    "outputId": "e1376597-5af3-49a7-a6da-19af425da045"
   },
   "outputs": [
    {
     "name": "stdout",
     "output_type": "stream",
     "text": [
      "Most common NOUNS\n",
      "[('gent', 10), ('llengua', 10), ('cançó', 9), ('subscriptor', 8), ('cultura', 8)]\n",
      "\n",
      "Most common VERBS\n",
      "[('veure', 5), ('passar', 4), ('pensar', 4), ('parlar', 4), ('clicar', 3)]\n"
     ]
    }
   ],
   "source": [
    "print(\"Most common NOUNS\")\n",
    "print(get_most_common_category(text_nosw,\"NOUN\", 5))\n",
    "\n",
    "print(\"\\nMost common VERBS\")\n",
    "print(get_most_common_category(text_nosw,\"VERB\", 5))"
   ]
  },
  {
   "cell_type": "markdown",
   "metadata": {
    "id": "NF1tqgGZQLJ8"
   },
   "source": [
    "## 4. Named Entity Recognition"
   ]
  },
  {
   "cell_type": "code",
   "execution_count": null,
   "metadata": {
    "colab": {
     "base_uri": "https://localhost:8080/"
    },
    "executionInfo": {
     "elapsed": 406,
     "status": "ok",
     "timestamp": 1643382971098,
     "user": {
      "displayName": "ONA DE GIBERT BONET",
      "photoUrl": "https://lh3.googleusercontent.com/a-/AOh14GgTcOm2_dMJkA4Ry_ge0oD8g_mtotYKYNPg66gN=s64",
      "userId": "03677606584104604140"
     },
     "user_tz": -60
    },
    "id": "hA4tLZC_QKnS",
    "outputId": "e5cd5a40-a4c2-4ad8-d116-ac4c50c8e1f4"
   },
   "outputs": [
    {
     "name": "stdout",
     "output_type": "stream",
     "text": [
      "Found entities: 76\n"
     ]
    }
   ],
   "source": [
    "print(\"Found entities:\",len(doc.ents))"
   ]
  },
  {
   "cell_type": "code",
   "execution_count": null,
   "metadata": {
    "colab": {
     "base_uri": "https://localhost:8080/",
     "height": 1000
    },
    "executionInfo": {
     "elapsed": 9,
     "status": "ok",
     "timestamp": 1643383004955,
     "user": {
      "displayName": "ONA DE GIBERT BONET",
      "photoUrl": "https://lh3.googleusercontent.com/a-/AOh14GgTcOm2_dMJkA4Ry_ge0oD8g_mtotYKYNPg66gN=s64",
      "userId": "03677606584104604140"
     },
     "user_tz": -60
    },
    "id": "yB2P9TlfQiGM",
    "outputId": "68e864f2-b250-4ca7-8044-135edf643b3c"
   },
   "outputs": [
    {
     "data": {
      "text/html": [
       "<span class=\"tex2jax_ignore\"><div class=\"entities\" style=\"line-height: 2.5; direction: ltr\">El suport econòmic dels lectors és fonamental per a mantenir el nostre model de periodisme independent i de qualitat . Podeu fer-vos-en subscriptor clicant ací i , a més de llegir \n",
       "<mark class=\"entity\" style=\"background: #ddd; padding: 0.45em 0.6em; margin: 0 0.25em; line-height: 1; border-radius: 0.35em;\">\n",
       "    VilaWeb\n",
       "    <span style=\"font-size: 0.8em; font-weight: bold; line-height: 1; border-radius: 0.35em; vertical-align: middle; margin-left: 0.5rem\">MISC</span>\n",
       "</mark>\n",
       " sense anuncis , ens ajudareu d'una manera decisiva a continuar fent la nostra feina . Voleu enviar ara el comentari ? Us recordem que els comentaris a l'editorial són els únics comentaris públics de \n",
       "<mark class=\"entity\" style=\"background: #ddd; padding: 0.45em 0.6em; margin: 0 0.25em; line-height: 1; border-radius: 0.35em;\">\n",
       "    VilaWeb i\n",
       "    <span style=\"font-size: 0.8em; font-weight: bold; line-height: 1; border-radius: 0.35em; vertical-align: middle; margin-left: 0.5rem\">MISC</span>\n",
       "</mark>\n",
       " poden ser llegits per tothom , no solament pels subscriptors . \n",
       "<mark class=\"entity\" style=\"background: #7aecec; padding: 0.45em 0.6em; margin: 0 0.25em; line-height: 1; border-radius: 0.35em;\">\n",
       "    CULTURA\n",
       "    <span style=\"font-size: 0.8em; font-weight: bold; line-height: 1; border-radius: 0.35em; vertical-align: middle; margin-left: 0.5rem\">ORG</span>\n",
       "</mark>\n",
       " &gt; \n",
       "<mark class=\"entity\" style=\"background: #ddd; padding: 0.45em 0.6em; margin: 0 0.25em; line-height: 1; border-radius: 0.35em;\">\n",
       "    MÚSICA El grup gallec\n",
       "    <span style=\"font-size: 0.8em; font-weight: bold; line-height: 1; border-radius: 0.35em; vertical-align: middle; margin-left: 0.5rem\">MISC</span>\n",
       "</mark>\n",
       " \n",
       "<mark class=\"entity\" style=\"background: #ddd; padding: 0.45em 0.6em; margin: 0 0.25em; line-height: 1; border-radius: 0.35em;\">\n",
       "    Tanxugueiras\n",
       "    <span style=\"font-size: 0.8em; font-weight: bold; line-height: 1; border-radius: 0.35em; vertical-align: middle; margin-left: 0.5rem\">PER</span>\n",
       "</mark>\n",
       " és a un pas d'aconseguir-ho amb la cançó `` \n",
       "<mark class=\"entity\" style=\"background: #7aecec; padding: 0.45em 0.6em; margin: 0 0.25em; line-height: 1; border-radius: 0.35em;\">\n",
       "    Terra\n",
       "    <span style=\"font-size: 0.8em; font-weight: bold; line-height: 1; border-radius: 0.35em; vertical-align: middle; margin-left: 0.5rem\">ORG</span>\n",
       "</mark>\n",
       " '' Per : Redacció Aquesta funcionalitat és per als membres de la comunitat de \n",
       "<mark class=\"entity\" style=\"background: #ddd; padding: 0.45em 0.6em; margin: 0 0.25em; line-height: 1; border-radius: 0.35em;\">\n",
       "    VilaWeb\n",
       "    <span style=\"font-size: 0.8em; font-weight: bold; line-height: 1; border-radius: 0.35em; vertical-align: middle; margin-left: 0.5rem\">MISC</span>\n",
       "</mark>\n",
       " . Si encara no en sou subscriptors , cliqueu en aquesta pàgina per veure'n els avantatges . Aquesta funcionalitat és per als membres de la comunitat de \n",
       "<mark class=\"entity\" style=\"background: #ddd; padding: 0.45em 0.6em; margin: 0 0.25em; line-height: 1; border-radius: 0.35em;\">\n",
       "    VilaWeb\n",
       "    <span style=\"font-size: 0.8em; font-weight: bold; line-height: 1; border-radius: 0.35em; vertical-align: middle; margin-left: 0.5rem\">MISC</span>\n",
       "</mark>\n",
       " . Si encara no en sou subscriptors , cliqueu en aquesta pàgina per veure'n els avantatges . Fes-te subscriptor de \n",
       "<mark class=\"entity\" style=\"background: #ddd; padding: 0.45em 0.6em; margin: 0 0.25em; line-height: 1; border-radius: 0.35em;\">\n",
       "    VilaWeb Sonarà\n",
       "    <span style=\"font-size: 0.8em; font-weight: bold; line-height: 1; border-radius: 0.35em; vertical-align: middle; margin-left: 0.5rem\">MISC</span>\n",
       "</mark>\n",
       " per primera vegada una cançó en gallec , basc , asturià i català a la final d \n",
       "<mark class=\"entity\" style=\"background: #7aecec; padding: 0.45em 0.6em; margin: 0 0.25em; line-height: 1; border-radius: 0.35em;\">\n",
       "    ’ Eurovisió ?\n",
       "    <span style=\"font-size: 0.8em; font-weight: bold; line-height: 1; border-radius: 0.35em; vertical-align: middle; margin-left: 0.5rem\">ORG</span>\n",
       "</mark>\n",
       " Doncs enguany pot passar . I , cosa que és més sorprenent , no serà perquè \n",
       "<mark class=\"entity\" style=\"background: #ff9561; padding: 0.45em 0.6em; margin: 0 0.25em; line-height: 1; border-radius: 0.35em;\">\n",
       "    Andorra\n",
       "    <span style=\"font-size: 0.8em; font-weight: bold; line-height: 1; border-radius: 0.35em; vertical-align: middle; margin-left: 0.5rem\">LOC</span>\n",
       "</mark>\n",
       " hagi passat a la final ( en realitat , fa anys que ja ni ho prova ) , sinó que pot passar que hi cantarà el representant d ’ \n",
       "<mark class=\"entity\" style=\"background: #ff9561; padding: 0.45em 0.6em; margin: 0 0.25em; line-height: 1; border-radius: 0.35em;\">\n",
       "    Espanya\n",
       "    <span style=\"font-size: 0.8em; font-weight: bold; line-height: 1; border-radius: 0.35em; vertical-align: middle; margin-left: 0.5rem\">LOC</span>\n",
       "</mark>\n",
       " . Aquesta fita que semblava impossible fa un parell d ’ anys , podria ser una realitat enguany . El grup gallec de les \n",
       "<mark class=\"entity\" style=\"background: #ddd; padding: 0.45em 0.6em; margin: 0 0.25em; line-height: 1; border-radius: 0.35em;\">\n",
       "    Tanxugueiras\n",
       "    <span style=\"font-size: 0.8em; font-weight: bold; line-height: 1; border-radius: 0.35em; vertical-align: middle; margin-left: 0.5rem\">MISC</span>\n",
       "</mark>\n",
       " ha trencat tots els esquemes i és a un pas d ’ assolir-ho , amb la cançó “ \n",
       "<mark class=\"entity\" style=\"background: #7aecec; padding: 0.45em 0.6em; margin: 0 0.25em; line-height: 1; border-radius: 0.35em;\">\n",
       "    Terra\n",
       "    <span style=\"font-size: 0.8em; font-weight: bold; line-height: 1; border-radius: 0.35em; vertical-align: middle; margin-left: 0.5rem\">ORG</span>\n",
       "</mark>\n",
       " ” . El franquisme va impedir que \n",
       "<mark class=\"entity\" style=\"background: #ddd; padding: 0.45em 0.6em; margin: 0 0.25em; line-height: 1; border-radius: 0.35em;\">\n",
       "    Joan Manuel Serrat\n",
       "    <span style=\"font-size: 0.8em; font-weight: bold; line-height: 1; border-radius: 0.35em; vertical-align: middle; margin-left: 0.5rem\">PER</span>\n",
       "</mark>\n",
       " fes servir el català a \n",
       "<mark class=\"entity\" style=\"background: #ddd; padding: 0.45em 0.6em; margin: 0 0.25em; line-height: 1; border-radius: 0.35em;\">\n",
       "    Eurovisió\n",
       "    <span style=\"font-size: 0.8em; font-weight: bold; line-height: 1; border-radius: 0.35em; vertical-align: middle; margin-left: 0.5rem\">PER</span>\n",
       "</mark>\n",
       " el 1968 ; mig segle després , tres dones gallegues estan disposades a tombar aquesta barrera a l ’ estat espanyol i fer visible la seva cultura a tot \n",
       "<mark class=\"entity\" style=\"background: #ff9561; padding: 0.45em 0.6em; margin: 0 0.25em; line-height: 1; border-radius: 0.35em;\">\n",
       "    Europa\n",
       "    <span style=\"font-size: 0.8em; font-weight: bold; line-height: 1; border-radius: 0.35em; vertical-align: middle; margin-left: 0.5rem\">LOC</span>\n",
       "</mark>\n",
       " . A més , picaran l \n",
       "<mark class=\"entity\" style=\"background: #ff9561; padding: 0.45em 0.6em; margin: 0 0.25em; line-height: 1; border-radius: 0.35em;\">\n",
       "    ’\n",
       "    <span style=\"font-size: 0.8em; font-weight: bold; line-height: 1; border-radius: 0.35em; vertical-align: middle; margin-left: 0.5rem\">LOC</span>\n",
       "</mark>\n",
       " ullet als bascs , catalans i asturians , perquè a l \n",
       "<mark class=\"entity\" style=\"background: #ff9561; padding: 0.45em 0.6em; margin: 0 0.25em; line-height: 1; border-radius: 0.35em;\">\n",
       "    ’\n",
       "    <span style=\"font-size: 0.8em; font-weight: bold; line-height: 1; border-radius: 0.35em; vertical-align: middle; margin-left: 0.5rem\">LOC</span>\n",
       "</mark>\n",
       " estrofa principal de la cançó hi afegiran aquests tres idiomes . Aquesta setmana , el trio que formen les \n",
       "<mark class=\"entity\" style=\"background: #ddd; padding: 0.45em 0.6em; margin: 0 0.25em; line-height: 1; border-radius: 0.35em;\">\n",
       "    Tanxugueiras –Aida Tarrío\n",
       "    <span style=\"font-size: 0.8em; font-weight: bold; line-height: 1; border-radius: 0.35em; vertical-align: middle; margin-left: 0.5rem\">MISC</span>\n",
       "</mark>\n",
       " i les germanes \n",
       "<mark class=\"entity\" style=\"background: #ff9561; padding: 0.45em 0.6em; margin: 0 0.25em; line-height: 1; border-radius: 0.35em;\">\n",
       "    Olaia\n",
       "    <span style=\"font-size: 0.8em; font-weight: bold; line-height: 1; border-radius: 0.35em; vertical-align: middle; margin-left: 0.5rem\">LOC</span>\n",
       "</mark>\n",
       " i \n",
       "<mark class=\"entity\" style=\"background: #ddd; padding: 0.45em 0.6em; margin: 0 0.25em; line-height: 1; border-radius: 0.35em;\">\n",
       "    Sabela Maneiro\n",
       "    <span style=\"font-size: 0.8em; font-weight: bold; line-height: 1; border-radius: 0.35em; vertical-align: middle; margin-left: 0.5rem\">PER</span>\n",
       "</mark>\n",
       "– competiran al \n",
       "<mark class=\"entity\" style=\"background: #ddd; padding: 0.45em 0.6em; margin: 0 0.25em; line-height: 1; border-radius: 0.35em;\">\n",
       "    Festival de Benidorm\n",
       "    <span style=\"font-size: 0.8em; font-weight: bold; line-height: 1; border-radius: 0.35em; vertical-align: middle; margin-left: 0.5rem\">MISC</span>\n",
       "</mark>\n",
       " per representar \n",
       "<mark class=\"entity\" style=\"background: #ddd; padding: 0.45em 0.6em; margin: 0 0.25em; line-height: 1; border-radius: 0.35em;\">\n",
       "    Ràdio Televisió Espanyola a Eurovisió 2022\n",
       "    <span style=\"font-size: 0.8em; font-weight: bold; line-height: 1; border-radius: 0.35em; vertical-align: middle; margin-left: 0.5rem\">MISC</span>\n",
       "</mark>\n",
       " . I en totes les enquestes sonen com una de les possibles guanyadores , juntament amb la catalana \n",
       "<mark class=\"entity\" style=\"background: #ddd; padding: 0.45em 0.6em; margin: 0 0.25em; line-height: 1; border-radius: 0.35em;\">\n",
       "    Rigoberta Bandini\n",
       "    <span style=\"font-size: 0.8em; font-weight: bold; line-height: 1; border-radius: 0.35em; vertical-align: middle; margin-left: 0.5rem\">PER</span>\n",
       "</mark>\n",
       " , que es presenta amb “ ¡Ay , mamá ! ” , una cançó en castellà . Encara durant la primera semifinal , es va veure que no serà tot fàcil . Malgrat que \n",
       "<mark class=\"entity\" style=\"background: #ddd; padding: 0.45em 0.6em; margin: 0 0.25em; line-height: 1; border-radius: 0.35em;\">\n",
       "    Tanxugueiras\n",
       "    <span style=\"font-size: 0.8em; font-weight: bold; line-height: 1; border-radius: 0.35em; vertical-align: middle; margin-left: 0.5rem\">PER</span>\n",
       "</mark>\n",
       " va ser l ’ aposta guanyadora per part del públic , el jurat les va puntuar molt baix . La coentor continua igual : \n",
       "<mark class=\"entity\" style=\"background: #ddd; padding: 0.45em 0.6em; margin: 0 0.25em; line-height: 1; border-radius: 0.35em;\">\n",
       "    Ximo Puig\n",
       "    <span style=\"font-size: 0.8em; font-weight: bold; line-height: 1; border-radius: 0.35em; vertical-align: middle; margin-left: 0.5rem\">PER</span>\n",
       "</mark>\n",
       " , Eurovisió i el \n",
       "<mark class=\"entity\" style=\"background: #ddd; padding: 0.45em 0.6em; margin: 0 0.25em; line-height: 1; border-radius: 0.35em;\">\n",
       "    Festival de Benidorm “ Estem molt orgulloses\n",
       "    <span style=\"font-size: 0.8em; font-weight: bold; line-height: 1; border-radius: 0.35em; vertical-align: middle; margin-left: 0.5rem\">MISC</span>\n",
       "</mark>\n",
       " que el gallec sigui representat finalment en un entorn com aquest . És molt bonic veure aquest orgull del poble , en què tothom està unit per una causa . Per a nosaltres és una immensa alegria i un honor poder elevar el gallec al màxim nivell , i que la gent vegi que aquí hi ha una magnífica cultura mil·lenària ” , explicava el grup fa pocs dies en una entrevista a \n",
       "<mark class=\"entity\" style=\"background: #7aecec; padding: 0.45em 0.6em; margin: 0 0.25em; line-height: 1; border-radius: 0.35em;\">\n",
       "    Nós Diario\n",
       "    <span style=\"font-size: 0.8em; font-weight: bold; line-height: 1; border-radius: 0.35em; vertical-align: middle; margin-left: 0.5rem\">ORG</span>\n",
       "</mark>\n",
       " . Quan les \n",
       "<mark class=\"entity\" style=\"background: #ddd; padding: 0.45em 0.6em; margin: 0 0.25em; line-height: 1; border-radius: 0.35em;\">\n",
       "    Tanxugueiras\n",
       "    <span style=\"font-size: 0.8em; font-weight: bold; line-height: 1; border-radius: 0.35em; vertical-align: middle; margin-left: 0.5rem\">MISC</span>\n",
       "</mark>\n",
       " van ajuntar-se per cantar , no hi pensaven pas , a anar a \n",
       "<mark class=\"entity\" style=\"background: #ddd; padding: 0.45em 0.6em; margin: 0 0.25em; line-height: 1; border-radius: 0.35em;\">\n",
       "    Eurovisió\n",
       "    <span style=\"font-size: 0.8em; font-weight: bold; line-height: 1; border-radius: 0.35em; vertical-align: middle; margin-left: 0.5rem\">PER</span>\n",
       "</mark>\n",
       " . De fet , reconeixen que no han estat mai gaire seguidores del festival . Simplement , eren dues germanes i una amiga que s ’ ajuntaven per cantar a les \n",
       "<mark class=\"entity\" style=\"background: #7aecec; padding: 0.45em 0.6em; margin: 0 0.25em; line-height: 1; border-radius: 0.35em;\">\n",
       "    Foliadas\n",
       "    <span style=\"font-size: 0.8em; font-weight: bold; line-height: 1; border-radius: 0.35em; vertical-align: middle; margin-left: 0.5rem\">ORG</span>\n",
       "</mark>\n",
       " , unes festes populars amb molta presència de dansa i música tradicional gallega . Però xalaven tant cantant juntes que van començar a bastir cada vegada més projectes . El 2017 un vídeo seu cantant es va fer viral , i un any després publicaven el primer disc . De primer , bàsicament reinterpretaven la música folclòrica de \n",
       "<mark class=\"entity\" style=\"background: #ff9561; padding: 0.45em 0.6em; margin: 0 0.25em; line-height: 1; border-radius: 0.35em;\">\n",
       "    Galícia\n",
       "    <span style=\"font-size: 0.8em; font-weight: bold; line-height: 1; border-radius: 0.35em; vertical-align: middle; margin-left: 0.5rem\">LOC</span>\n",
       "</mark>\n",
       " . Aquests darrers anys , han explorat amb curiositat la fusió de la tradició amb la sonoritat urbana i moderna , tot barrejant la música d ’ arrel amb l \n",
       "<mark class=\"entity\" style=\"background: #ff9561; padding: 0.45em 0.6em; margin: 0 0.25em; line-height: 1; border-radius: 0.35em;\">\n",
       "    ’\n",
       "    <span style=\"font-size: 0.8em; font-weight: bold; line-height: 1; border-radius: 0.35em; vertical-align: middle; margin-left: 0.5rem\">LOC</span>\n",
       "</mark>\n",
       " electrònica i el reggaeton . Són les cantareiras del segle XXI . Amb la seva música acosten la gent jove a una tradició que aquests darrers anys havia anat perdent força . Diuen que se senten molt orgulloses de veure com la gent se ’ ls acosta a dir que han començat a tocar el tamborí o a parlar gallec . Són conscients que amb la seva música trenquen certs tabús i ajuden a normalitzar certs aspectes de la cultura gallega . Bo i cantant , volen demostrar que la música tradicional pot tenir la mateixa projecció que qualsevol mena de música . Com diu la lletra de “ \n",
       "<mark class=\"entity\" style=\"background: #7aecec; padding: 0.45em 0.6em; margin: 0 0.25em; line-height: 1; border-radius: 0.35em;\">\n",
       "    Terra\n",
       "    <span style=\"font-size: 0.8em; font-weight: bold; line-height: 1; border-radius: 0.35em; vertical-align: middle; margin-left: 0.5rem\">ORG</span>\n",
       "</mark>\n",
       " ” , \n",
       "<mark class=\"entity\" style=\"background: #ddd; padding: 0.45em 0.6em; margin: 0 0.25em; line-height: 1; border-radius: 0.35em;\">\n",
       "    Tanxugueiras\n",
       "    <span style=\"font-size: 0.8em; font-weight: bold; line-height: 1; border-radius: 0.35em; vertical-align: middle; margin-left: 0.5rem\">PER</span>\n",
       "</mark>\n",
       " han vingut per quedar-se i obren el camí a les noves generacions . El projecte va molt més enllà del festival d \n",
       "<mark class=\"entity\" style=\"background: #7aecec; padding: 0.45em 0.6em; margin: 0 0.25em; line-height: 1; border-radius: 0.35em;\">\n",
       "    ’ Eurovisió\n",
       "    <span style=\"font-size: 0.8em; font-weight: bold; line-height: 1; border-radius: 0.35em; vertical-align: middle; margin-left: 0.5rem\">ORG</span>\n",
       "</mark>\n",
       " . En realitat , tot plegat és una anècdota en la seva carrera , que va néixer d ’ una petició dels anomenats “ eurofans ” ( fans d ’ \n",
       "<mark class=\"entity\" style=\"background: #ddd; padding: 0.45em 0.6em; margin: 0 0.25em; line-height: 1; border-radius: 0.35em;\">\n",
       "    Eurovisió\n",
       "    <span style=\"font-size: 0.8em; font-weight: bold; line-height: 1; border-radius: 0.35em; vertical-align: middle; margin-left: 0.5rem\">MISC</span>\n",
       "</mark>\n",
       " ) . Si aquest grup ha aconseguit que el pre-seleccionessin és perquè els “ eurofans ” van triar la seva cançó “ \n",
       "<mark class=\"entity\" style=\"background: #ddd; padding: 0.45em 0.6em; margin: 0 0.25em; line-height: 1; border-radius: 0.35em;\">\n",
       "    Figa\n",
       "    <span style=\"font-size: 0.8em; font-weight: bold; line-height: 1; border-radius: 0.35em; vertical-align: middle; margin-left: 0.5rem\">MISC</span>\n",
       "</mark>\n",
       " ” com a millor proposta per al festival . A post shared by \n",
       "<mark class=\"entity\" style=\"background: #7aecec; padding: 0.45em 0.6em; margin: 0 0.25em; line-height: 1; border-radius: 0.35em;\">\n",
       "    T\n",
       "    <span style=\"font-size: 0.8em; font-weight: bold; line-height: 1; border-radius: 0.35em; vertical-align: middle; margin-left: 0.5rem\">ORG</span>\n",
       "</mark>\n",
       " A \n",
       "<mark class=\"entity\" style=\"background: #ff9561; padding: 0.45em 0.6em; margin: 0 0.25em; line-height: 1; border-radius: 0.35em;\">\n",
       "    N X U G U E I R\n",
       "    <span style=\"font-size: 0.8em; font-weight: bold; line-height: 1; border-radius: 0.35em; vertical-align: middle; margin-left: 0.5rem\">LOC</span>\n",
       "</mark>\n",
       " A \n",
       "<mark class=\"entity\" style=\"background: #ddd; padding: 0.45em 0.6em; margin: 0 0.25em; line-height: 1; border-radius: 0.35em;\">\n",
       "    S\n",
       "    <span style=\"font-size: 0.8em; font-weight: bold; line-height: 1; border-radius: 0.35em; vertical-align: middle; margin-left: 0.5rem\">PER</span>\n",
       "</mark>\n",
       " ( \n",
       "<mark class=\"entity\" style=\"background: #ddd; padding: 0.45em 0.6em; margin: 0 0.25em; line-height: 1; border-radius: 0.35em;\">\n",
       "    @\n",
       "    <span style=\"font-size: 0.8em; font-weight: bold; line-height: 1; border-radius: 0.35em; vertical-align: middle; margin-left: 0.5rem\">PER</span>\n",
       "</mark>\n",
       " tanxugueiras ) La cançó triada finalment , “ \n",
       "<mark class=\"entity\" style=\"background: #7aecec; padding: 0.45em 0.6em; margin: 0 0.25em; line-height: 1; border-radius: 0.35em;\">\n",
       "    Terra\n",
       "    <span style=\"font-size: 0.8em; font-weight: bold; line-height: 1; border-radius: 0.35em; vertical-align: middle; margin-left: 0.5rem\">ORG</span>\n",
       "</mark>\n",
       " ” , ha estat una font d \n",
       "<mark class=\"entity\" style=\"background: #ff9561; padding: 0.45em 0.6em; margin: 0 0.25em; line-height: 1; border-radius: 0.35em;\">\n",
       "    ’\n",
       "    <span style=\"font-size: 0.8em; font-weight: bold; line-height: 1; border-radius: 0.35em; vertical-align: middle; margin-left: 0.5rem\">LOC</span>\n",
       "</mark>\n",
       " alegria per a elles aquests darrers mesos . El dia que la van llançar va superar el mig milió de visualitzacions i va encapçalar unes quantes llistes de tendències musicals a tot l ’ estat espanyol . Fins i tot va arribar a ser la segona cançó més escoltada de la llista d \n",
       "<mark class=\"entity\" style=\"background: #ff9561; padding: 0.45em 0.6em; margin: 0 0.25em; line-height: 1; border-radius: 0.35em;\">\n",
       "    ’ Apple Music\n",
       "    <span style=\"font-size: 0.8em; font-weight: bold; line-height: 1; border-radius: 0.35em; vertical-align: middle; margin-left: 0.5rem\">LOC</span>\n",
       "</mark>\n",
       " , només superada per “ \n",
       "<mark class=\"entity\" style=\"background: #ddd; padding: 0.45em 0.6em; margin: 0 0.25em; line-height: 1; border-radius: 0.35em;\">\n",
       "    All I\n",
       "    <span style=\"font-size: 0.8em; font-weight: bold; line-height: 1; border-radius: 0.35em; vertical-align: middle; margin-left: 0.5rem\">MISC</span>\n",
       "</mark>\n",
       " want for \n",
       "<mark class=\"entity\" style=\"background: #ddd; padding: 0.45em 0.6em; margin: 0 0.25em; line-height: 1; border-radius: 0.35em;\">\n",
       "    Christmas\n",
       "    <span style=\"font-size: 0.8em; font-weight: bold; line-height: 1; border-radius: 0.35em; vertical-align: middle; margin-left: 0.5rem\">PER</span>\n",
       "</mark>\n",
       " is you ” , de \n",
       "<mark class=\"entity\" style=\"background: #ddd; padding: 0.45em 0.6em; margin: 0 0.25em; line-height: 1; border-radius: 0.35em;\">\n",
       "    Mariah Carey\n",
       "    <span style=\"font-size: 0.8em; font-weight: bold; line-height: 1; border-radius: 0.35em; vertical-align: middle; margin-left: 0.5rem\">PER</span>\n",
       "</mark>\n",
       " . \n",
       "<mark class=\"entity\" style=\"background: #ddd; padding: 0.45em 0.6em; margin: 0 0.25em; line-height: 1; border-radius: 0.35em;\">\n",
       "    “\n",
       "    <span style=\"font-size: 0.8em; font-weight: bold; line-height: 1; border-radius: 0.35em; vertical-align: middle; margin-left: 0.5rem\">PER</span>\n",
       "</mark>\n",
       " Va ser bestial , crec que és una cosa que no assimilarem en tota la vida . És molt fort això que ens passa , no solament a nosaltres , sinó a totes les llengües que malauradament són minoritàries , i que sembla que no poden donar més de si , com el basc , el català o l \n",
       "<mark class=\"entity\" style=\"background: #ddd; padding: 0.45em 0.6em; margin: 0 0.25em; line-height: 1; border-radius: 0.35em;\">\n",
       "    ’\n",
       "    <span style=\"font-size: 0.8em; font-weight: bold; line-height: 1; border-radius: 0.35em; vertical-align: middle; margin-left: 0.5rem\">MISC</span>\n",
       "</mark>\n",
       " asturià . Crec que tots estem molt contents . Fem un treball en equip , una germanor molt bonica ” explica \n",
       "<mark class=\"entity\" style=\"background: #ddd; padding: 0.45em 0.6em; margin: 0 0.25em; line-height: 1; border-radius: 0.35em;\">\n",
       "    Olaia Maneiro\n",
       "    <span style=\"font-size: 0.8em; font-weight: bold; line-height: 1; border-radius: 0.35em; vertical-align: middle; margin-left: 0.5rem\">PER</span>\n",
       "</mark>\n",
       " a \n",
       "<mark class=\"entity\" style=\"background: #7aecec; padding: 0.45em 0.6em; margin: 0 0.25em; line-height: 1; border-radius: 0.35em;\">\n",
       "    Nós Diario\n",
       "    <span style=\"font-size: 0.8em; font-weight: bold; line-height: 1; border-radius: 0.35em; vertical-align: middle; margin-left: 0.5rem\">ORG</span>\n",
       "</mark>\n",
       " . Aquesta germanor de què parlen es nota a la cançó mateix . “ \n",
       "<mark class=\"entity\" style=\"background: #7aecec; padding: 0.45em 0.6em; margin: 0 0.25em; line-height: 1; border-radius: 0.35em;\">\n",
       "    Terra\n",
       "    <span style=\"font-size: 0.8em; font-weight: bold; line-height: 1; border-radius: 0.35em; vertical-align: middle; margin-left: 0.5rem\">ORG</span>\n",
       "</mark>\n",
       " ” pica l \n",
       "<mark class=\"entity\" style=\"background: #ff9561; padding: 0.45em 0.6em; margin: 0 0.25em; line-height: 1; border-radius: 0.35em;\">\n",
       "    ’\n",
       "    <span style=\"font-size: 0.8em; font-weight: bold; line-height: 1; border-radius: 0.35em; vertical-align: middle; margin-left: 0.5rem\">LOC</span>\n",
       "</mark>\n",
       " ullet a tots aquests idiomes , amb un vers que diu \n",
       "<mark class=\"entity\" style=\"background: #ddd; padding: 0.45em 0.6em; margin: 0 0.25em; line-height: 1; border-radius: 0.35em;\">\n",
       "    “\n",
       "    <span style=\"font-size: 0.8em; font-weight: bold; line-height: 1; border-radius: 0.35em; vertical-align: middle; margin-left: 0.5rem\">PER</span>\n",
       "</mark>\n",
       " no hi ha fronteres ” . D ’ alguna manera diuen que volen que la gent del \n",
       "<mark class=\"entity\" style=\"background: #ff9561; padding: 0.45em 0.6em; margin: 0 0.25em; line-height: 1; border-radius: 0.35em;\">\n",
       "    País Basc\n",
       "    <span style=\"font-size: 0.8em; font-weight: bold; line-height: 1; border-radius: 0.35em; vertical-align: middle; margin-left: 0.5rem\">LOC</span>\n",
       "</mark>\n",
       " , \n",
       "<mark class=\"entity\" style=\"background: #ff9561; padding: 0.45em 0.6em; margin: 0 0.25em; line-height: 1; border-radius: 0.35em;\">\n",
       "    Astúries\n",
       "    <span style=\"font-size: 0.8em; font-weight: bold; line-height: 1; border-radius: 0.35em; vertical-align: middle; margin-left: 0.5rem\">LOC</span>\n",
       "</mark>\n",
       " o dels \n",
       "<mark class=\"entity\" style=\"background: #ff9561; padding: 0.45em 0.6em; margin: 0 0.25em; line-height: 1; border-radius: 0.35em;\">\n",
       "    Països Catalans\n",
       "    <span style=\"font-size: 0.8em; font-weight: bold; line-height: 1; border-radius: 0.35em; vertical-align: middle; margin-left: 0.5rem\">LOC</span>\n",
       "</mark>\n",
       " vegin en les \n",
       "<mark class=\"entity\" style=\"background: #ddd; padding: 0.45em 0.6em; margin: 0 0.25em; line-height: 1; border-radius: 0.35em;\">\n",
       "    Tanxugueiras\n",
       "    <span style=\"font-size: 0.8em; font-weight: bold; line-height: 1; border-radius: 0.35em; vertical-align: middle; margin-left: 0.5rem\">MISC</span>\n",
       "</mark>\n",
       " el seu representant per a \n",
       "<mark class=\"entity\" style=\"background: #ddd; padding: 0.45em 0.6em; margin: 0 0.25em; line-height: 1; border-radius: 0.35em;\">\n",
       "    Eurovisió\n",
       "    <span style=\"font-size: 0.8em; font-weight: bold; line-height: 1; border-radius: 0.35em; vertical-align: middle; margin-left: 0.5rem\">PER</span>\n",
       "</mark>\n",
       " . \n",
       "<mark class=\"entity\" style=\"background: #ddd; padding: 0.45em 0.6em; margin: 0 0.25em; line-height: 1; border-radius: 0.35em;\">\n",
       "    Olaia Maneiro\n",
       "    <span style=\"font-size: 0.8em; font-weight: bold; line-height: 1; border-radius: 0.35em; vertical-align: middle; margin-left: 0.5rem\">PER</span>\n",
       "</mark>\n",
       " afegeix : “ Crec que aprendre una llengua és sempre una riquesa , una obertura a unes altres cultures i llengües . Penso que unim totes aquestes llengües minoritàries amb el missatge que hem vingut per quedar-nos , per fer-nos sentir , i per això hem de remar tots junts . Veiem l ’ orgull que molta gent té per les llengües i les cultures , i això ens posa els pèls de punta. ” Tanxugueiras veuen que \n",
       "<mark class=\"entity\" style=\"background: #ddd; padding: 0.45em 0.6em; margin: 0 0.25em; line-height: 1; border-radius: 0.35em;\">\n",
       "    Eurovisió\n",
       "    <span style=\"font-size: 0.8em; font-weight: bold; line-height: 1; border-radius: 0.35em; vertical-align: middle; margin-left: 0.5rem\">PER</span>\n",
       "</mark>\n",
       " pot ser una gran oportunitat per a difondre la riquesa del gallec . “ Seria molt positiu que la gent investigués una mica més , perquè les llengües minoritàries semblen amagades i de vegades fins i tot veiem gent que les parla amb vergonya . I jo demano : et fa vergonya ? És meravellós tenir això que tenim , no tothom pot presumir de tenir una llengua pròpia . No podem estar més orgullosos . Som gallegoparlants sempre , la nostra llengua materna és el gallec , pensem en gallec , somiem en gallec… Fins i tot quan parlo anglès penso en gallec ” remarca \n",
       "<mark class=\"entity\" style=\"background: #ddd; padding: 0.45em 0.6em; margin: 0 0.25em; line-height: 1; border-radius: 0.35em;\">\n",
       "    Maneiro\n",
       "    <span style=\"font-size: 0.8em; font-weight: bold; line-height: 1; border-radius: 0.35em; vertical-align: middle; margin-left: 0.5rem\">PER</span>\n",
       "</mark>\n",
       " . Per elles , el fet d \n",
       "<mark class=\"entity\" style=\"background: #ff9561; padding: 0.45em 0.6em; margin: 0 0.25em; line-height: 1; border-radius: 0.35em;\">\n",
       "    ’\n",
       "    <span style=\"font-size: 0.8em; font-weight: bold; line-height: 1; border-radius: 0.35em; vertical-align: middle; margin-left: 0.5rem\">LOC</span>\n",
       "</mark>\n",
       " haver arribat a la pre-selecció amb el suport del públic ja és una petita victòria : “ D \n",
       "<mark class=\"entity\" style=\"background: #ff9561; padding: 0.45em 0.6em; margin: 0 0.25em; line-height: 1; border-radius: 0.35em;\">\n",
       "    ’\n",
       "    <span style=\"font-size: 0.8em; font-weight: bold; line-height: 1; border-radius: 0.35em; vertical-align: middle; margin-left: 0.5rem\">LOC</span>\n",
       "</mark>\n",
       " alguna manera ja ho hem aconseguit , perquè el fet que el gallec hi sigui i sigui escoltat i tan valorat per tothom és impressionant . Però és cert que arribar-hi seria un somni fet realitat , que tothom gaudeixi de la nostra llengua , perquè tenim una sonoritat preciosa des del meu punt de vista , i això es mantindrà fins a la mort [ \n",
       "<mark class=\"entity\" style=\"background: #ddd; padding: 0.45em 0.6em; margin: 0 0.25em; line-height: 1; border-radius: 0.35em;\">\n",
       "    riu\n",
       "    <span style=\"font-size: 0.8em; font-weight: bold; line-height: 1; border-radius: 0.35em; vertical-align: middle; margin-left: 0.5rem\">PER</span>\n",
       "</mark>\n",
       " ] . \n",
       "<mark class=\"entity\" style=\"background: #ddd; padding: 0.45em 0.6em; margin: 0 0.25em; line-height: 1; border-radius: 0.35em;\">\n",
       "    Molta\n",
       "    <span style=\"font-size: 0.8em; font-weight: bold; line-height: 1; border-radius: 0.35em; vertical-align: middle; margin-left: 0.5rem\">PER</span>\n",
       "</mark>\n",
       " gent investiga la nostra cultura arran d ’ això , al·lucina , veu que aquesta llengua existeix . ‘ I com és que s \n",
       "<mark class=\"entity\" style=\"background: #ff9561; padding: 0.45em 0.6em; margin: 0 0.25em; line-height: 1; border-radius: 0.35em;\">\n",
       "    ’\n",
       "    <span style=\"font-size: 0.8em; font-weight: bold; line-height: 1; border-radius: 0.35em; vertical-align: middle; margin-left: 0.5rem\">LOC</span>\n",
       "</mark>\n",
       " ha conservat durant tant de temps ? ’ , demanen . Perquè tenim la sort que la nostra és una de les cultures més ben conservades del món . Totes les dones i homes d ’ aquest país ho van fer possible ; sobretot les dones , perquè \n",
       "<mark class=\"entity\" style=\"background: #ff9561; padding: 0.45em 0.6em; margin: 0 0.25em; line-height: 1; border-radius: 0.35em;\">\n",
       "    Galícia\n",
       "    <span style=\"font-size: 0.8em; font-weight: bold; line-height: 1; border-radius: 0.35em; vertical-align: middle; margin-left: 0.5rem\">LOC</span>\n",
       "</mark>\n",
       " és un país amb un matriarcat molt marcat en la conservació cultural . Aquí hi ha molta gent que treballa amb gran dedicació per la causa , i és increïble que la gent de fora senti interès i investigui . Si ja al·lucinem per la nostra cultura , imagineu-vos qui no tenia ni la més mínima idea que tot això existia. ” Comentaris Els subscriptors de \n",
       "<mark class=\"entity\" style=\"background: #ddd; padding: 0.45em 0.6em; margin: 0 0.25em; line-height: 1; border-radius: 0.35em;\">\n",
       "    VilaWeb\n",
       "    <span style=\"font-size: 0.8em; font-weight: bold; line-height: 1; border-radius: 0.35em; vertical-align: middle; margin-left: 0.5rem\">PER</span>\n",
       "</mark>\n",
       " poden comentar aquesta notícia , o bé llegir els comentaris que hi han fet els altres subscriptors i debatre-la amb ells , clicant ací . Si encara no sou subscriptors , us en podeu fer clicant ací . Comparteix a \n",
       "<mark class=\"entity\" style=\"background: #7aecec; padding: 0.45em 0.6em; margin: 0 0.25em; line-height: 1; border-radius: 0.35em;\">\n",
       "    Facebook Comparteix\n",
       "    <span style=\"font-size: 0.8em; font-weight: bold; line-height: 1; border-radius: 0.35em; vertical-align: middle; margin-left: 0.5rem\">ORG</span>\n",
       "</mark>\n",
       " a Twitter S'ha afegit la noticia a \n",
       "<mark class=\"entity\" style=\"background: #ddd; padding: 0.45em 0.6em; margin: 0 0.25em; line-height: 1; border-radius: 0.35em;\">\n",
       "    Favorits Enviar\n",
       "    <span style=\"font-size: 0.8em; font-weight: bold; line-height: 1; border-radius: 0.35em; vertical-align: middle; margin-left: 0.5rem\">PER</span>\n",
       "</mark>\n",
       " una còpia a un amic *\n",
       "<mark class=\"entity\" style=\"background: #ff9561; padding: 0.45em 0.6em; margin: 0 0.25em; line-height: 1; border-radius: 0.35em;\">\n",
       "    Separa\n",
       "    <span style=\"font-size: 0.8em; font-weight: bold; line-height: 1; border-radius: 0.35em; vertical-align: middle; margin-left: 0.5rem\">LOC</span>\n",
       "</mark>\n",
       " els diferents emails amb comes . un compromís amb el periodisme i amb el país \n",
       "<mark class=\"entity\" style=\"background: #ddd; padding: 0.45em 0.6em; margin: 0 0.25em; line-height: 1; border-radius: 0.35em;\">\n",
       "    Subscriure 'm\n",
       "    <span style=\"font-size: 0.8em; font-weight: bold; line-height: 1; border-radius: 0.35em; vertical-align: middle; margin-left: 0.5rem\">MISC</span>\n",
       "</mark>\n",
       " al butlletí de notícies : Amb la col·laboració de : Hem detectat que teniu les notificacions de \n",
       "<mark class=\"entity\" style=\"background: #ddd; padding: 0.45em 0.6em; margin: 0 0.25em; line-height: 1; border-radius: 0.35em;\">\n",
       "    Vilaweb\n",
       "    <span style=\"font-size: 0.8em; font-weight: bold; line-height: 1; border-radius: 0.35em; vertical-align: middle; margin-left: 0.5rem\">MISC</span>\n",
       "</mark>\n",
       " blocades . Si les voleu rebre , seguiu les instruccions que trobareu en aquesta pàgina .</div></span>"
      ],
      "text/plain": [
       "<IPython.core.display.HTML object>"
      ]
     },
     "metadata": {},
     "output_type": "display_data"
    }
   ],
   "source": [
    "from spacy import displacy\n",
    "displacy.render(doc, jupyter=True, style='ent')"
   ]
  },
  {
   "cell_type": "code",
   "execution_count": null,
   "metadata": {
    "colab": {
     "base_uri": "https://localhost:8080/"
    },
    "executionInfo": {
     "elapsed": 395,
     "status": "ok",
     "timestamp": 1643383100135,
     "user": {
      "displayName": "ONA DE GIBERT BONET",
      "photoUrl": "https://lh3.googleusercontent.com/a-/AOh14GgTcOm2_dMJkA4Ry_ge0oD8g_mtotYKYNPg66gN=s64",
      "userId": "03677606584104604140"
     },
     "user_tz": -60
    },
    "id": "wHnRGiG_Qv3-",
    "outputId": "b730959f-872a-4adb-e02c-f1dfd349fb31"
   },
   "outputs": [
    {
     "name": "stdout",
     "output_type": "stream",
     "text": [
      "Most common entity types:\n",
      "Counter({'PER': 24, 'LOC': 20, 'MISC': 19, 'ORG': 13})\n"
     ]
    }
   ],
   "source": [
    "labels = [x.label_ for x in doc.ents]\n",
    "labels\n",
    "print(\"Most common entity types:\")\n",
    "print(Counter(labels))"
   ]
  },
  {
   "cell_type": "code",
   "execution_count": null,
   "metadata": {
    "colab": {
     "base_uri": "https://localhost:8080/"
    },
    "executionInfo": {
     "elapsed": 10,
     "status": "ok",
     "timestamp": 1643384038849,
     "user": {
      "displayName": "ONA DE GIBERT BONET",
      "photoUrl": "https://lh3.googleusercontent.com/a-/AOh14GgTcOm2_dMJkA4Ry_ge0oD8g_mtotYKYNPg66gN=s64",
      "userId": "03677606584104604140"
     },
     "user_tz": -60
    },
    "id": "fGCdeQXwRDuF",
    "outputId": "512741a8-b44d-4049-c070-1fc34825c857"
   },
   "outputs": [
    {
     "data": {
      "text/plain": [
       "spacy.tokens.span.Span"
      ]
     },
     "execution_count": 85,
     "metadata": {},
     "output_type": "execute_result"
    }
   ],
   "source": [
    "entities = [x for x in doc.ents]\n",
    "print(entities)"
   ]
  },
  {
   "cell_type": "code",
   "execution_count": null,
   "metadata": {
    "colab": {
     "base_uri": "https://localhost:8080/"
    },
    "executionInfo": {
     "elapsed": 373,
     "status": "ok",
     "timestamp": 1643384077205,
     "user": {
      "displayName": "ONA DE GIBERT BONET",
      "photoUrl": "https://lh3.googleusercontent.com/a-/AOh14GgTcOm2_dMJkA4Ry_ge0oD8g_mtotYKYNPg66gN=s64",
      "userId": "03677606584104604140"
     },
     "user_tz": -60
    },
    "id": "0s0iIoX_Tdhr",
    "outputId": "d3959d28-ecf4-4696-8d3a-1759619d3335"
   },
   "outputs": [
    {
     "name": "stdout",
     "output_type": "stream",
     "text": [
      "['VilaWeb', 'VilaWeb i', 'CULTURA', 'MÚSICA El grup gallec', 'Tanxugueiras', 'Terra', 'VilaWeb', 'VilaWeb', 'VilaWeb Sonarà', ' Eurovisió ', 'Andorra', 'Espanya', 'Tanxugueiras', 'Terra', 'Joan Manuel Serrat', 'Eurovisió', 'Europa', '', '', 'Tanxugueiras –Aida Tarrío', 'Olaia', 'Sabela Maneiro', 'Festival de Benidorm', 'Ràdio Televisió Espanyola a Eurovisió 2022', 'Rigoberta Bandini', 'Tanxugueiras', 'Ximo Puig', 'Festival de Benidorm “ Estem molt orgulloses', 'Nós Diario', 'Tanxugueiras', 'Eurovisió', 'Foliadas', 'Galícia', '', 'Terra', 'Tanxugueiras', ' Eurovisió', 'Eurovisió', 'Figa', 'T', 'N X U G U E I R', 'S', '', 'Terra', '', ' Apple Music', 'All I', 'Christmas', 'Mariah Carey', '“', '', 'Olaia Maneiro', 'Nós Diario', 'Terra', '', '“', 'País Basc', 'Astúries', 'Països Catalans', 'Tanxugueiras', 'Eurovisió', 'Olaia Maneiro', 'Eurovisió', 'Maneiro', '', '', 'riu', 'Molta', '', 'Galícia', 'VilaWeb', 'Facebook Comparteix', 'Favorits Enviar', 'Separa', 'Subscriure m', 'Vilaweb']\n"
     ]
    }
   ],
   "source": [
    "# The punctuation seems annoying\n",
    "import string\n",
    "\n",
    "punct = re.compile('['+string.punctuation+'’]+') # Match punctuation signs, but on their own, keep words with punctuation\n",
    "clean_entities = [re.sub(punct,'',entity.text) for entity in entities]\n",
    "print(clean_entities)"
   ]
  },
  {
   "cell_type": "markdown",
   "metadata": {
    "id": "qADYXqPxUzGK"
   },
   "source": [
    "Now there are some empty elements and some whitespaces at the beginning and end. Let's fix it."
   ]
  },
  {
   "cell_type": "code",
   "execution_count": null,
   "metadata": {
    "colab": {
     "base_uri": "https://localhost:8080/"
    },
    "executionInfo": {
     "elapsed": 360,
     "status": "ok",
     "timestamp": 1643384189762,
     "user": {
      "displayName": "ONA DE GIBERT BONET",
      "photoUrl": "https://lh3.googleusercontent.com/a-/AOh14GgTcOm2_dMJkA4Ry_ge0oD8g_mtotYKYNPg66gN=s64",
      "userId": "03677606584104604140"
     },
     "user_tz": -60
    },
    "id": "Ckj6uHUpU6Jn",
    "outputId": "8278d20a-1ba2-4fae-c6fb-3f346163742a"
   },
   "outputs": [
    {
     "name": "stdout",
     "output_type": "stream",
     "text": [
      "['VilaWeb', 'VilaWeb i', 'CULTURA', 'MÚSICA El grup gallec', 'Tanxugueiras', 'Terra', 'VilaWeb', 'VilaWeb', 'VilaWeb Sonarà', 'Eurovisió', 'Andorra', 'Espanya', 'Tanxugueiras', 'Terra', 'Joan Manuel Serrat', 'Eurovisió', 'Europa', 'Tanxugueiras –Aida Tarrío', 'Olaia', 'Sabela Maneiro', 'Festival de Benidorm', 'Ràdio Televisió Espanyola a Eurovisió 2022', 'Rigoberta Bandini', 'Tanxugueiras', 'Ximo Puig', 'Festival de Benidorm “ Estem molt orgulloses', 'Nós Diario', 'Tanxugueiras', 'Eurovisió', 'Foliadas', 'Galícia', 'Terra', 'Tanxugueiras', 'Eurovisió', 'Eurovisió', 'Figa', 'T', 'N X U G U E I R', 'S', 'Terra', 'Apple Music', 'All I', 'Christmas', 'Mariah Carey', '“', 'Olaia Maneiro', 'Nós Diario', 'Terra', '“', 'País Basc', 'Astúries', 'Països Catalans', 'Tanxugueiras', 'Eurovisió', 'Olaia Maneiro', 'Eurovisió', 'Maneiro', 'riu', 'Molta', 'Galícia', 'VilaWeb', 'Facebook Comparteix', 'Favorits Enviar', 'Separa', 'Subscriure m', 'Vilaweb']\n"
     ]
    }
   ],
   "source": [
    "clean_entities = [entity for entity in clean_entities if entity] #Remove empty elements\n",
    "whitespace = re.compile('^ | $') # Match punctuation signs, but on their own, keep words with punctuation\n",
    "clean_entities = [re.sub(whitespace,'',entity) for entity in clean_entities]\n",
    "print(clean_entities)"
   ]
  },
  {
   "cell_type": "code",
   "execution_count": null,
   "metadata": {
    "colab": {
     "base_uri": "https://localhost:8080/"
    },
    "executionInfo": {
     "elapsed": 7,
     "status": "ok",
     "timestamp": 1643384215830,
     "user": {
      "displayName": "ONA DE GIBERT BONET",
      "photoUrl": "https://lh3.googleusercontent.com/a-/AOh14GgTcOm2_dMJkA4Ry_ge0oD8g_mtotYKYNPg66gN=s64",
      "userId": "03677606584104604140"
     },
     "user_tz": -60
    },
    "id": "ewDb6kDsSjHW",
    "outputId": "a5e84762-4c99-4774-89c8-13872035ce2b"
   },
   "outputs": [
    {
     "name": "stdout",
     "output_type": "stream",
     "text": [
      "Most common entities:\n",
      "['Eurovisió', 'Tanxugueiras', 'Terra', 'VilaWeb', 'Nós Diario']\n"
     ]
    }
   ],
   "source": [
    "print(\"Most common entities:\")\n",
    "most_common = [word for word, count in Counter(clean_entities).most_common(5)] #Counter returns a tuple of (word, occurrences); we only want the words\n",
    "print(most_common)"
   ]
  }
 ],
 "metadata": {
  "colab": {
   "authorship_tag": "ABX9TyNLcSpLMWGOmQQu//W9cCoh",
   "collapsed_sections": [],
   "name": "P4_POS_and_NER_SOLVED.ipynb",
   "provenance": [
    {
     "file_id": "1Odu4A4Bn_gA21L0wElXDvZiiVlMXBQ7D",
     "timestamp": 1643380624680
    }
   ]
  },
  "kernelspec": {
   "display_name": "Python 3 (ipykernel)",
   "language": "python",
   "name": "python3"
  },
  "language_info": {
   "codemirror_mode": {
    "name": "ipython",
    "version": 3
   },
   "file_extension": ".py",
   "mimetype": "text/x-python",
   "name": "python",
   "nbconvert_exporter": "python",
   "pygments_lexer": "ipython3",
   "version": "3.8.10"
  }
 },
 "nbformat": 4,
 "nbformat_minor": 1
}
