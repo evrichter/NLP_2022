{
 "cells": [
  {
   "cell_type": "markdown",
   "metadata": {
    "id": "JVrQwSC5OPYU"
   },
   "source": [
    "# Working with Words\n",
    "\n",
    "Below you'll find some programming exercises to practice Python programming. Read the problem definitions and use the notebook to code your solution. Try to solve the exercises to the best of your knowledge, without looking for solutions online. If you have questions, ask for a discussion in the Aula Global forums, or during class."
   ]
  },
  {
   "cell_type": "markdown",
   "metadata": {
    "id": "VKOYbN0ESBQ9"
   },
   "source": [
    "#Exercise 1\n",
    "**Objective**: given the list of words below, create a function that checks if\n",
    "the word is a palindrome or not and then separates the palindrome words from \n",
    "the ones are not.\n",
    "\n",
    "What is a palindrome?\n",
    "A word is said to be palindrome if the reverse of the word is the same as original word.\n",
    "\n",
    "What your function must return: a dictionary with two entries. \n",
    "One entry should contain a list of the palindrome words and the other entry  \n",
    "should contain a list of words that are not palindromes.\n",
    "\n",
    "Baby steps:\n",
    "1.  First concentrate in writing the code that identifies a palindrome word\n",
    "2.  Then, create two lists: one where you'll put the palindrome words and  another one where you'll put the words that are not palindromes. \n",
    "3.  Last step is the easy one, you only have to add the lists to a dictionary.\n",
    "\n",
    "Tips: remember to lower case the words. You can reverse a string in a \n",
    "'pythonic' way using list slices as in [::-1]\n"
   ]
  },
  {
   "cell_type": "code",
   "execution_count": null,
   "metadata": {
    "colab": {
     "base_uri": "https://localhost:8080/"
    },
    "executionInfo": {
     "elapsed": 894,
     "status": "ok",
     "timestamp": 1641668762192,
     "user": {
      "displayName": "ONA DE GIBERT BONET",
      "photoUrl": "https://lh3.googleusercontent.com/a-/AOh14GgTcOm2_dMJkA4Ry_ge0oD8g_mtotYKYNPg66gN=s64",
      "userId": "03677606584104604140"
     },
     "user_tz": -60
    },
    "id": "mUmxGNGKOHss",
    "outputId": "75871d6e-9466-421f-d62d-2a631bf189b4"
   },
   "outputs": [
    {
     "data": {
      "text/plain": [
       "{'non-palindrome': ['Banana',\n",
       "  'Zebra',\n",
       "  'Mouse',\n",
       "  'Giant',\n",
       "  'Virus',\n",
       "  'Zombie',\n",
       "  'Garlic'],\n",
       " 'palindrome': ['Abba',\n",
       "  'Arara',\n",
       "  'aaaa',\n",
       "  'Madam',\n",
       "  'Civic',\n",
       "  'Dad',\n",
       "  'Mom',\n",
       "  'accca',\n",
       "  'Radar',\n",
       "  'Gig']}"
      ]
     },
     "execution_count": 3,
     "metadata": {},
     "output_type": "execute_result"
    }
   ],
   "source": [
    "words = ['Abba', 'Arara', 'Banana', 'aaaa',\n",
    "         'Zebra', 'Madam', 'Mouse', 'Civic',\n",
    "         'Dad', 'Mom', 'Giant', 'accca', 'Radar',\n",
    "         'Virus', 'Gig', 'Zombie', 'Garlic']\n",
    "\n",
    "# We will use two funcions\n",
    "\n",
    "def is_palindrome(word):\n",
    "  #This function only checks if a word is a palindrome and returns yes or no\n",
    "  word = word.lower() #We lowercase the word\n",
    "  if word == word[::-1]: #We check if the word is the same as its backward spelling (if it's an actual palindrome)\n",
    "    return 'yes'\n",
    "  else:\n",
    "    return 'no'\n",
    "\n",
    "def get_palindromes(words): \n",
    "  #Here we create a dictionary with two keys and for values, we create emtpy lists\n",
    "  pal_dict = {'palindrome': [], 'non-palindrome':[]}\n",
    "  for word in words: #We iterate through each word and check if they are a palindrome or not and we add them to the dictionary\n",
    "    if is_palindrome(word) == 'yes':\n",
    "      pal_dict['palindrome'].append(word)\n",
    "    else:\n",
    "      pal_dict['non-palindrome'].append(word)\n",
    "  return pal_dict # We return the dictionary\n",
    "\n",
    "get_palindromes(words)"
   ]
  },
  {
   "cell_type": "markdown",
   "metadata": {
    "id": "0GggTQJdTRcg"
   },
   "source": [
    "\n",
    "# Exercise 2\n",
    "**Objective**: Given the list of strings of the first exercise,  write a function that counts the number of words where the string length is 2 or more and the first and last character are the same.\n",
    "\n",
    "Tips: use the indexes to get the first and last character of a word. Remember that the index -1 corresponds to the last element."
   ]
  },
  {
   "cell_type": "code",
   "execution_count": 3,
   "metadata": {
    "colab": {
     "base_uri": "https://localhost:8080/"
    },
    "executionInfo": {
     "elapsed": 228,
     "status": "ok",
     "timestamp": 1641890676244,
     "user": {
      "displayName": "ONA DE GIBERT BONET",
      "photoUrl": "https://lh3.googleusercontent.com/a-/AOh14GgTcOm2_dMJkA4Ry_ge0oD8g_mtotYKYNPg66gN=s64",
      "userId": "03677606584104604140"
     },
     "user_tz": -60
    },
    "id": "nHZB7vmeFaX0",
    "outputId": "69b5bbfb-ec55-49ba-9390-42ee8711d339"
   },
   "outputs": [
    {
     "data": {
      "text/plain": [
       "10"
      ]
     },
     "execution_count": 3,
     "metadata": {},
     "output_type": "execute_result"
    }
   ],
   "source": [
    "def process(words):\n",
    "  longer_2_same_first_end_char = 0 #We create a variable count that starts at 0\n",
    "  for word in words:\n",
    "    word = word.lower() #We lowercase the word\n",
    "    # We use two condtions:\n",
    "    # 1. If the word length is bigger than two\n",
    "    # 2. If the word's first char (word[0]) is the same as the last one (word[-1])\n",
    "    if len(word) >= 2 and word[0] == word[-1]: \n",
    "      longer_2_same_first_end_char += 1\n",
    "  return longer_2_same_first_end_char\n",
    "\n",
    "process(words)"
   ]
  },
  {
   "cell_type": "markdown",
   "metadata": {
    "id": "aEwkXWgqVRsK"
   },
   "source": [
    "# Exercise 3\n",
    "**Objective**: Given the list of strings of the first exercise, write a function that returns the rounded average word length."
   ]
  },
  {
   "cell_type": "code",
   "execution_count": 8,
   "metadata": {
    "colab": {
     "base_uri": "https://localhost:8080/"
    },
    "executionInfo": {
     "elapsed": 264,
     "status": "ok",
     "timestamp": 1641891568351,
     "user": {
      "displayName": "ONA DE GIBERT BONET",
      "photoUrl": "https://lh3.googleusercontent.com/a-/AOh14GgTcOm2_dMJkA4Ry_ge0oD8g_mtotYKYNPg66gN=s64",
      "userId": "03677606584104604140"
     },
     "user_tz": -60
    },
    "id": "8SRKuuNaGc6l",
    "outputId": "3408cda5-4e0a-4763-a7c0-d25b561ac8b1"
   },
   "outputs": [
    {
     "data": {
      "text/plain": [
       "5.0"
      ]
     },
     "execution_count": 8,
     "metadata": {},
     "output_type": "execute_result"
    }
   ],
   "source": [
    "def get_average_len(words):\n",
    "  all_lens = [] #We create an empty list\n",
    "  for word in words:\n",
    "    all_lens.append(len(word)) #We add the lengths of each word\n",
    "  avg_len = round(sum(all_lens)/len(words),0) #we sum all lengths, we divide them by the number of words and finally, we round the number so it is not a float\n",
    "  return avg_len\n",
    "\n",
    "get_average_len(words)"
   ]
  }
 ],
 "metadata": {
  "colab": {
   "collapsed_sections": [],
   "name": "P1_Introduction_to_Python_SOLVED.ipynb",
   "provenance": [
    {
     "file_id": "1XA1b625AI0JOJwZQfI6bIbzxoJANsh7Q",
     "timestamp": 1641668540818
    }
   ]
  },
  "kernelspec": {
   "display_name": "Python 3 (ipykernel)",
   "language": "python",
   "name": "python3"
  },
  "language_info": {
   "codemirror_mode": {
    "name": "ipython",
    "version": 3
   },
   "file_extension": ".py",
   "mimetype": "text/x-python",
   "name": "python",
   "nbconvert_exporter": "python",
   "pygments_lexer": "ipython3",
   "version": "3.8.10"
  }
 },
 "nbformat": 4,
 "nbformat_minor": 1
}
