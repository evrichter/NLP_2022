{
 "cells": [
  {
   "cell_type": "markdown",
   "metadata": {
    "id": "fGBye3sWwr3l"
   },
   "source": [
    "# Regular Expressions\n",
    "Regular expressions (regex) are a language for specifying text search strings. They are particularly useful for searching in texts, when we have a pattern to search for and a corpus of texts to search through. \n",
    "\n",
    "Here are some resources that will be helpful for this practice:\n",
    "*   [Official Python Documentation](https://docs.python.org/3/library/re.html)\n",
    "*   [An online regex checker](https://regex101.com/) \n",
    "*   [A cheatsheet](https://cheatography.com/davechild/cheat-sheets/regular-expressions/)"
   ]
  },
  {
   "cell_type": "code",
   "execution_count": 1,
   "metadata": {
    "executionInfo": {
     "elapsed": 1029,
     "status": "ok",
     "timestamp": 1642511569491,
     "user": {
      "displayName": "ONA DE GIBERT BONET",
      "photoUrl": "https://lh3.googleusercontent.com/a-/AOh14GgTcOm2_dMJkA4Ry_ge0oD8g_mtotYKYNPg66gN=s64",
      "userId": "03677606584104604140"
     },
     "user_tz": -60
    },
    "id": "rt-514gjl1y9"
   },
   "outputs": [],
   "source": [
    "import re"
   ]
  },
  {
   "cell_type": "markdown",
   "metadata": {
    "id": "JfVo3SD6eLSK"
   },
   "source": [
    "# Exercise 1\n",
    "Regular Expressions are in our everyday lives. Whenever we fill in a form using our email and a required password, the code behind it to check whether the email is correct and the password is strong are... Regular Expressions!\n",
    "\n",
    "In this exercise, you need to define two patterns:\n",
    "1. A pattern to accept valid emails. Take into account that:\n",
    "  * Allowed characters in the prefix are letters (a-z), numbers, underscores, periods, and dashes.\n",
    "  * The last portion of the domain must be at least two characters and maximum 5, for example: .com, .org, .cc\n",
    "2. A pattern to accept passwords that can have one capital letter, one lower-case letter, one digit and one punctuation character and that are at least 8 characters long."
   ]
  },
  {
   "cell_type": "code",
   "execution_count": null,
   "metadata": {
    "colab": {
     "base_uri": "https://localhost:8080/"
    },
    "executionInfo": {
     "elapsed": 413,
     "status": "ok",
     "timestamp": 1642418444145,
     "user": {
      "displayName": "ONA DE GIBERT BONET",
      "photoUrl": "https://lh3.googleusercontent.com/a-/AOh14GgTcOm2_dMJkA4Ry_ge0oD8g_mtotYKYNPg66gN=s64",
      "userId": "03677606584104604140"
     },
     "user_tz": -60
    },
    "id": "dupBqf-UciaZ",
    "outputId": "7de50857-0ed5-4569-bc67-c6298cdf4c8d"
   },
   "outputs": [
    {
     "name": "stdout",
     "output_type": "stream",
     "text": [
      "Accepted emails:  ['ona.degibert@upf.edu', 'abc.def@mail-archive.com', 'Teresa324@domain.org', 'john.smith@example.com', 'aoc@hotmail.uk']\n",
      "Emails that should be rejected but are currently accepted:  []\n",
      "Success, your pattern works!\n"
     ]
    }
   ],
   "source": [
    "emails_to_be_accepted = \"ona.degibert@upf.edu, abc.def@mail-archive.com, Teresa324@domain.org, john.smith@example.com, aoc@hotmail.uk\"\n",
    "emails_to_be_rejected = \"@gmail.com, john@hotmail, lisa!@yahoo.edu, jordan@jordan.jordan, 1234567!@org.org\"\n",
    "\n",
    "email_pattern = r\"\\b[\\w\\._-]+@[\\w-]+\\.[a-z]{2,5}\\b\"\n",
    "\n",
    "# This may help you test your pattern\n",
    "print(\"Accepted emails: \", re.findall(email_pattern,emails_to_be_accepted))\n",
    "print(\"Emails that should be rejected but are currently accepted: \",re.findall(email_pattern,emails_to_be_rejected))\n",
    "if len(re.findall(email_pattern,emails_to_be_accepted)) == 5 and len(re.findall(email_pattern,emails_to_be_rejected)) == 0:\n",
    "  print(\"Success, your pattern works!\")\n",
    "else:\n",
    "  print(\"Try improving your pattern...\")\n"
   ]
  },
  {
   "cell_type": "code",
   "execution_count": 37,
   "metadata": {
    "colab": {
     "base_uri": "https://localhost:8080/"
    },
    "executionInfo": {
     "elapsed": 349,
     "status": "ok",
     "timestamp": 1642512568242,
     "user": {
      "displayName": "ONA DE GIBERT BONET",
      "photoUrl": "https://lh3.googleusercontent.com/a-/AOh14GgTcOm2_dMJkA4Ry_ge0oD8g_mtotYKYNPg66gN=s64",
      "userId": "03677606584104604140"
     },
     "user_tz": -60
    },
    "id": "bNr9T3dxlht-",
    "outputId": "263525af-0d5f-4131-bf34-9724966173fd"
   },
   "outputs": [
    {
     "name": "stdout",
     "output_type": "stream",
     "text": [
      "Accepted passwords:  ['Password123!3', 'Appl3.Pi3', 'KeS78+Tu']\n",
      "Passwords that should be rejected but are currently accepted:  []\n",
      "Success, your pattern works!\n"
     ]
    }
   ],
   "source": [
    "passwords_to_be_accepted = \"Password123!3, Appl3.Pi3, KeS78+Tu\"\n",
    "passwords_to_be_rejected = \"Sh0r!\"\n",
    "\n",
    "password_pattern =  r\"\\b[a-zA-Z\\d@$!%*#?+&\\.]{8,}\\b\"\n",
    "\n",
    "# This may help you test your pattern\n",
    "print(\"Accepted passwords: \", re.findall(password_pattern,passwords_to_be_accepted))\n",
    "print(\"Passwords that should be rejected but are currently accepted: \",re.findall(password_pattern,passwords_to_be_rejected))\n",
    "\n",
    "if len(re.findall(password_pattern,passwords_to_be_accepted)) == 3 and len(re.findall(password_pattern,passwords_to_be_rejected)) == 0:\n",
    "  print(\"Success, your pattern works!\")\n",
    "else:\n",
    "  print(\"Try improving your pattern...\")"
   ]
  },
  {
   "cell_type": "markdown",
   "metadata": {
    "id": "FgqMPx41eSv9"
   },
   "source": [
    "# Exercise 2\n",
    "\n",
    "We want to perform some text cleaning to be able to count the number of word occurrences in our text.\n",
    "\n",
    "You should:\n",
    "* Lowercase the text\n",
    "* Using regex:\n",
    "  * Clean up contractions\n",
    "  * Remove punctuation signs\n",
    "  * Remove digits\n",
    "  * Substitute multiple spaces by only one\n",
    "\n",
    "Then, split the text into words and write a function to count how many time each word occurs in the form of a dictionary."
   ]
  },
  {
   "cell_type": "code",
   "execution_count": null,
   "metadata": {
    "colab": {
     "base_uri": "https://localhost:8080/"
    },
    "executionInfo": {
     "elapsed": 276,
     "status": "ok",
     "timestamp": 1642417929934,
     "user": {
      "displayName": "ONA DE GIBERT BONET",
      "photoUrl": "https://lh3.googleusercontent.com/a-/AOh14GgTcOm2_dMJkA4Ry_ge0oD8g_mtotYKYNPg66gN=s64",
      "userId": "03677606584104604140"
     },
     "user_tz": -60
    },
    "id": "dlAqw3xxrAlZ",
    "outputId": "a20d309f-b35a-4fca-993b-1271f768f397"
   },
   "outputs": [
    {
     "data": {
      "text/plain": [
       "{'': 1,\n",
       " 'about': 1,\n",
       " 'all': 2,\n",
       " 'and': 4,\n",
       " 'before': 1,\n",
       " 'born': 1,\n",
       " 'but': 1,\n",
       " 'catcher': 1,\n",
       " 'childhood': 1,\n",
       " 'copperfield': 1,\n",
       " 'crap': 1,\n",
       " 'd': 1,\n",
       " 'david': 1,\n",
       " 'do': 1,\n",
       " 'feel': 1,\n",
       " 'first': 1,\n",
       " 'going': 1,\n",
       " 'had': 1,\n",
       " 'hear': 1,\n",
       " 'how': 1,\n",
       " 'i': 2,\n",
       " 'if': 2,\n",
       " 'in': 1,\n",
       " 'into': 1,\n",
       " 'is': 1,\n",
       " 'it': 2,\n",
       " 'j': 1,\n",
       " 'kind': 1,\n",
       " 'know': 2,\n",
       " 'like': 2,\n",
       " 'lousy': 1,\n",
       " 'me': 1,\n",
       " 'my': 2,\n",
       " 'not': 1,\n",
       " 'occupied': 1,\n",
       " 'of': 1,\n",
       " 'parents': 1,\n",
       " 'probably': 1,\n",
       " 'really': 1,\n",
       " 'rye': 1,\n",
       " 'salinger': 1,\n",
       " 'that': 1,\n",
       " 'the': 4,\n",
       " 'they': 1,\n",
       " 'thing': 1,\n",
       " 'to': 3,\n",
       " 'truth': 1,\n",
       " 'want': 3,\n",
       " 'was': 2,\n",
       " 'were': 1,\n",
       " 'what': 1,\n",
       " 'where': 1,\n",
       " 'will': 1,\n",
       " 'you': 3}"
      ]
     },
     "execution_count": 55,
     "metadata": {},
     "output_type": "execute_result"
    }
   ],
   "source": [
    "import collections\n",
    "\n",
    "text = '''The Catcher in the Rye, J. D. Salinger (1951)    If you really want to hear about it, the first thing you'll probably want to know\n",
    "        is where I was born, and what my lousy childhood was like, and how my parents were occupied and all before they had me, and all that\n",
    "        David Copperfield kind of crap, but I don't feel like going into it, if you want to know the truth.'''\n",
    "\n",
    "# Note here the use of three single quotes to define a multi-line string\n",
    "\n",
    "def clean_text(text):\n",
    "  text = text.lower()\n",
    "  # Remove contractions\n",
    "  text_cleaned = re.sub(\"n't\",\" not\", text)\n",
    "  text_cleaned = re.sub(\"'ll\",\" will\", text_cleaned)\n",
    "  text_cleaned = re.sub(\"\\W\", \" \", text_cleaned) # remove punctuation\n",
    "  text_cleaned = re.sub(\"\\d\",\"\",text_cleaned) # remove digits\n",
    "  text_cleaned = re.sub(\"\\s+\",\" \",text_cleaned) # substitute multiple spaces by only one\n",
    "  return text_cleaned\n",
    "\n",
    "def count_words(text):\n",
    "  text_cleaned = clean_text(text) #Note that you can call functions within functions\n",
    "  words = re.split(\"\\W\",text_cleaned)\n",
    "  counts = dict()\n",
    "  for word in words:\n",
    "      if word not in counts.keys():\n",
    "        counts[word] = 1\n",
    "      else:\n",
    "        counts[word] = counts[word]+1\n",
    "  return counts\n",
    "\n",
    "count_words(text)"
   ]
  }
 ],
 "metadata": {
  "colab": {
   "collapsed_sections": [],
   "name": "P2_Regular_Expressions_SOLVED.ipynb",
   "provenance": []
  },
  "kernelspec": {
   "display_name": "Python 3 (ipykernel)",
   "language": "python",
   "name": "python3"
  },
  "language_info": {
   "codemirror_mode": {
    "name": "ipython",
    "version": 3
   },
   "file_extension": ".py",
   "mimetype": "text/x-python",
   "name": "python",
   "nbconvert_exporter": "python",
   "pygments_lexer": "ipython3",
   "version": "3.8.10"
  }
 },
 "nbformat": 4,
 "nbformat_minor": 1
}
